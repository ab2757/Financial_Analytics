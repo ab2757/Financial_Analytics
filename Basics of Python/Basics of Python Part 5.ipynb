{
 "cells": [
  {
   "cell_type": "markdown",
   "metadata": {},
   "source": [
    "# Pandas\n",
    "Pandas is a popular Python package for data science, and with good reason: it offers powerful, expressive and flexible data structures that make data manipulation and analysis easy, among many other things. \n",
    "\n",
    "Pandas deals with the following data structures −\n",
    "\n",
    "* Series\n",
    "* DataFrame\n",
    "\n"
   ]
  },
  {
   "cell_type": "markdown",
   "metadata": {},
   "source": [
    "#### Series\n",
    "Series is a one-dimensional array like structure with homogeneous data. For example, the following series is a collection of integers 10, 23, 56, …"
   ]
  },
  {
   "cell_type": "code",
   "execution_count": 73,
   "metadata": {},
   "outputs": [
    {
     "name": "stdout",
     "output_type": "stream",
     "text": [
      "0    10\n",
      "1    23\n",
      "2    56\n",
      "3    78\n",
      "dtype: int64\n"
     ]
    }
   ],
   "source": [
    "my_series = pd.Series([10,23,56,78])\n",
    "print(my_series)"
   ]
  },
  {
   "cell_type": "code",
   "execution_count": 74,
   "metadata": {},
   "outputs": [
    {
     "name": "stdout",
     "output_type": "stream",
     "text": [
      "<class 'pandas.core.series.Series'>\n"
     ]
    }
   ],
   "source": [
    "print(type(my_series))"
   ]
  },
  {
   "cell_type": "markdown",
   "metadata": {},
   "source": [
    "It can have any data structure like integer, float, and string. It is useful when you want to perform computation or return a one-dimensional array. A series, by definition, cannot have multiple columns."
   ]
  },
  {
   "cell_type": "markdown",
   "metadata": {},
   "source": [
    "You can add the index with index. It helps to name the rows. The length should be equal to the size of the column."
   ]
  },
  {
   "cell_type": "code",
   "execution_count": 79,
   "metadata": {},
   "outputs": [
    {
     "name": "stdout",
     "output_type": "stream",
     "text": [
      "a    1.0\n",
      "b    2.0\n",
      "c    3.0\n",
      "dtype: float64\n"
     ]
    }
   ],
   "source": [
    "my_series = pd.Series([1., 2., 3.], index=['a', 'b', 'c'])\n",
    "print(my_series)"
   ]
  },
  {
   "cell_type": "markdown",
   "metadata": {},
   "source": [
    "### Pandas Data Frames\n",
    "\n",
    "They are defined as two-dimensional labeled data structures with columns of potentially different types.\n",
    "\n",
    "The Pandas DataFrame consists of three main components: the data, the index, and the columns.\n",
    "\n",
    "The Pandas library is usually imported under the alias pd.\n"
   ]
  },
  {
   "cell_type": "code",
   "execution_count": 56,
   "metadata": {
    "collapsed": true
   },
   "outputs": [],
   "source": [
    "import pandas as pd"
   ]
  },
  {
   "cell_type": "markdown",
   "metadata": {},
   "source": [
    "#### Create Data frame\n",
    "You can convert a numpy array to a pandas data frame with pd.DataFrame(). The opposite is also possible. To convert a pandas Data Frame to an array, you can use np.array()\n"
   ]
  },
  {
   "cell_type": "code",
   "execution_count": 80,
   "metadata": {},
   "outputs": [
    {
     "name": "stdout",
     "output_type": "stream",
     "text": [
      "Data Frame:    0  1\n",
      "0  1  2\n",
      "1  3  4\n"
     ]
    }
   ],
   "source": [
    "## Numpy to pandas\n",
    "h = [[1,2],[3,4]] \n",
    "df_h = pd.DataFrame(h)\n",
    "print('Data Frame:', df_h)"
   ]
  },
  {
   "cell_type": "code",
   "execution_count": 81,
   "metadata": {},
   "outputs": [
    {
     "name": "stdout",
     "output_type": "stream",
     "text": [
      "Numpy array: [[1 2]\n",
      " [3 4]]\n"
     ]
    }
   ],
   "source": [
    "## Pandas to numpy\n",
    "df_h_n = np.array(df_h)\n",
    "print('Numpy array:', df_h_n)"
   ]
  },
  {
   "cell_type": "markdown",
   "metadata": {},
   "source": [
    "You can also use a dictionary to create a Pandas dataframe."
   ]
  },
  {
   "cell_type": "code",
   "execution_count": 82,
   "metadata": {},
   "outputs": [
    {
     "data": {
      "text/html": [
       "<div>\n",
       "<style scoped>\n",
       "    .dataframe tbody tr th:only-of-type {\n",
       "        vertical-align: middle;\n",
       "    }\n",
       "\n",
       "    .dataframe tbody tr th {\n",
       "        vertical-align: top;\n",
       "    }\n",
       "\n",
       "    .dataframe thead th {\n",
       "        text-align: right;\n",
       "    }\n",
       "</style>\n",
       "<table border=\"1\" class=\"dataframe\">\n",
       "  <thead>\n",
       "    <tr style=\"text-align: right;\">\n",
       "      <th></th>\n",
       "      <th>Name</th>\n",
       "      <th>Age</th>\n",
       "    </tr>\n",
       "  </thead>\n",
       "  <tbody>\n",
       "    <tr>\n",
       "      <th>0</th>\n",
       "      <td>John</td>\n",
       "      <td>30</td>\n",
       "    </tr>\n",
       "    <tr>\n",
       "      <th>1</th>\n",
       "      <td>Smith</td>\n",
       "      <td>40</td>\n",
       "    </tr>\n",
       "  </tbody>\n",
       "</table>\n",
       "</div>"
      ],
      "text/plain": [
       "    Name  Age\n",
       "0   John   30\n",
       "1  Smith   40"
      ]
     },
     "execution_count": 82,
     "metadata": {},
     "output_type": "execute_result"
    }
   ],
   "source": [
    "dic = {'Name': [\"John\", \"Smith\"], 'Age': [30, 40]}\n",
    "pd.DataFrame(data=dic)"
   ]
  },
  {
   "cell_type": "markdown",
   "metadata": {},
   "source": [
    "### Importing Data with read_csv()\n",
    "The first step to any data science project is to import your data. Often, you'll work with data in Comma Separated Value (CSV) files and run into problems at the very start of your workflow. \n",
    "\n"
   ]
  },
  {
   "cell_type": "markdown",
   "metadata": {},
   "source": [
    "Before you can use pandas to import your data, you need to know where your data is in your filesystem and what your current working directory is."
   ]
  },
  {
   "cell_type": "markdown",
   "metadata": {},
   "source": [
    "# OS library\n",
    "Python allows the developer to use several OS-dependent functionalities with the Python module <b>os</b>. This package abstracts the functionalities of the platform and provides the python functions to navigate, create, delete and modify files and folders.\n"
   ]
  },
  {
   "cell_type": "code",
   "execution_count": 57,
   "metadata": {
    "collapsed": true
   },
   "outputs": [],
   "source": [
    "import os"
   ]
  },
  {
   "cell_type": "markdown",
   "metadata": {},
   "source": [
    "#### getcwd()\n",
    "Now, using the getcwd method, we can retrieve the path of the current working directory."
   ]
  },
  {
   "cell_type": "code",
   "execution_count": 58,
   "metadata": {},
   "outputs": [
    {
     "name": "stdout",
     "output_type": "stream",
     "text": [
      "C:\\Users\\ab275\\Downloads\\edureka_freelance\\gaurav ipynb\\python1\n"
     ]
    }
   ],
   "source": [
    "print(os.getcwd())"
   ]
  },
  {
   "cell_type": "markdown",
   "metadata": {},
   "source": [
    "Let's list the folders/files in the current directory using listdir:"
   ]
  },
  {
   "cell_type": "code",
   "execution_count": 59,
   "metadata": {},
   "outputs": [
    {
     "name": "stdout",
     "output_type": "stream",
     "text": [
      "['.ipynb_checkpoints', '01_initial_notebook_screen.cb2ea87d9679.png', 'Basics of Python Part 1.ipynb', 'Basics of Python Part 2.ipynb', 'Basics of Python Part 3.ipynb', 'Basics of Python Part 4.ipynb', 'calculation.py', 'continue-statement-flowchart.jpg', 'flowchart-break-statement.jpg', 'forLoop.jpg', 'hello.png', 'numpy_tut1.png', 'osx-install-destination.png', 'osx-install-success.png', 'osx-install-type.png', 'reduce_diagram.png', 'test.txt', 'whileLoopFlowchart.jpg', 'win-install-complete.png']\n"
     ]
    }
   ],
   "source": [
    "print(os.listdir())"
   ]
  },
  {
   "cell_type": "markdown",
   "metadata": {},
   "source": [
    "Let's change the working directory and enter into the directory of data."
   ]
  },
  {
   "cell_type": "code",
   "execution_count": 61,
   "metadata": {
    "collapsed": true
   },
   "outputs": [],
   "source": [
    "os.chdir('Data/')"
   ]
  },
  {
   "cell_type": "markdown",
   "metadata": {},
   "source": [
    "#### Loading your data\n",
    "Now that you know what your current working directory is and where the dataset is in your filesystem, you can specify the file path to it. You're now ready to import the CSV file into Python using read_csv() from pandas:\n"
   ]
  },
  {
   "cell_type": "code",
   "execution_count": 83,
   "metadata": {
    "collapsed": true
   },
   "outputs": [],
   "source": [
    "credit_data = pd.read_csv(\"Credit_Pay.csv\")"
   ]
  },
  {
   "cell_type": "markdown",
   "metadata": {},
   "source": [
    "In the code above, the file path is the main argument to read_csv() and it was specified as the relative file path. The read_csv() function is smart enough to decipher whether it's working with full or relative file paths and convert your flat file as a DataFrame without a problem."
   ]
  },
  {
   "cell_type": "markdown",
   "metadata": {},
   "source": [
    "# Inspecting data\n",
    "\n",
    "* Load the data\n",
    "* Using head function - to print first few rows of the dataframe\n",
    "* Using tail function - to print last few rows of the dataframe\n",
    "* Using describe function - to get the counts, mean, std, min, max and percentile of the dataframe\n",
    "* Using info function - to see the datatypes of the columns of the dataframe"
   ]
  },
  {
   "cell_type": "markdown",
   "metadata": {},
   "source": [
    "Data has been load already using read.csv() in the object \"credit_data\""
   ]
  },
  {
   "cell_type": "code",
   "execution_count": 85,
   "metadata": {},
   "outputs": [
    {
     "name": "stdout",
     "output_type": "stream",
     "text": [
      "   ID  LIMIT_BAL     SEX      EDUCATION MARRIAGE  AGE  REPAYMENT_JUL  \\\n",
      "0   1    20000.0  Female  Post Graduate  Married   24              2   \n",
      "1   2   120000.0  Female  Post Graduate   Single   26             -1   \n",
      "2   3    90000.0  Female  Post Graduate   Single   34              0   \n",
      "3   4    50000.0  Female  Post Graduate  Married   37              0   \n",
      "4   5    50000.0    Male  Post Graduate  Married   57             -1   \n",
      "\n",
      "   REPAYMENT_JUN  REPAYMENT_MAY  REPAYMENT_APR  ...  BILL_AMT_MAY  \\\n",
      "0              2             -1             -1  ...         689.0   \n",
      "1              2              0              0  ...        2682.0   \n",
      "2              0              0              0  ...       13559.0   \n",
      "3              0              0              0  ...       49291.0   \n",
      "4              0             -1              0  ...       35835.0   \n",
      "\n",
      "   BILL_AMT_APR  BILL_AMT_MAR  BILL_AMT_FEB  PAY_AMT_JUL  PAY_AMT_JUN  \\\n",
      "0           0.0           0.0           0.0          0.0        689.0   \n",
      "1        3272.0        3455.0        3261.0          0.0       1000.0   \n",
      "2       14331.0       14948.0       15549.0       1518.0       1500.0   \n",
      "3       28314.0       28959.0       29547.0       2000.0       2019.0   \n",
      "4       20940.0       19146.0       19131.0       2000.0      36681.0   \n",
      "\n",
      "   PAY_AMT_MAY  PAY_AMT_APR  PAY_AMT_MAR  PAY_AMT_FEB  \n",
      "0          0.0          0.0          0.0          0.0  \n",
      "1       1000.0       1000.0          0.0       2000.0  \n",
      "2       1000.0       1000.0       1000.0       5000.0  \n",
      "3       1200.0       1100.0       1069.0       1000.0  \n",
      "4      10000.0       9000.0        689.0        679.0  \n",
      "\n",
      "[5 rows x 24 columns]\n"
     ]
    }
   ],
   "source": [
    "print(credit_data.head())"
   ]
  },
  {
   "cell_type": "code",
   "execution_count": 86,
   "metadata": {},
   "outputs": [
    {
     "name": "stdout",
     "output_type": "stream",
     "text": [
      "          ID  LIMIT_BAL   SEX      EDUCATION MARRIAGE  AGE  REPAYMENT_JUL  \\\n",
      "29995  29996   220000.0  Male    High School  Married   39              0   \n",
      "29996  29997   150000.0  Male    High School   Single   43             -1   \n",
      "29997  29998    30000.0  Male  Post Graduate   Single   37              4   \n",
      "29998  29999    80000.0  Male    High School  Married   41              1   \n",
      "29999  30000    50000.0  Male  Post Graduate  Married   46              0   \n",
      "\n",
      "       REPAYMENT_JUN  REPAYMENT_MAY  REPAYMENT_APR  ...  BILL_AMT_MAY  \\\n",
      "29995              0              0              0  ...      208365.0   \n",
      "29996             -1             -1             -1  ...        3502.0   \n",
      "29997              3              2             -1  ...        2758.0   \n",
      "29998             -1              0              0  ...       76304.0   \n",
      "29999              0              0              0  ...       49764.0   \n",
      "\n",
      "       BILL_AMT_APR  BILL_AMT_MAR  BILL_AMT_FEB  PAY_AMT_JUL  PAY_AMT_JUN  \\\n",
      "29995       88004.0       31237.0       15980.0       8500.0      20000.0   \n",
      "29996        8979.0        5190.0           0.0       1837.0       3526.0   \n",
      "29997       20878.0       20582.0       19357.0          0.0          0.0   \n",
      "29998       52774.0       11855.0       48944.0      85900.0       3409.0   \n",
      "29999       36535.0       32428.0       15313.0       2078.0       1800.0   \n",
      "\n",
      "       PAY_AMT_MAY  PAY_AMT_APR  PAY_AMT_MAR  PAY_AMT_FEB  \n",
      "29995       5003.0       3047.0       5000.0       1000.0  \n",
      "29996       8998.0        129.0          0.0          0.0  \n",
      "29997      22000.0       4200.0       2000.0       3100.0  \n",
      "29998       1178.0       1926.0      52964.0       1804.0  \n",
      "29999       1430.0       1000.0       1000.0       1000.0  \n",
      "\n",
      "[5 rows x 24 columns]\n"
     ]
    }
   ],
   "source": [
    "print(credit_data.tail())"
   ]
  },
  {
   "cell_type": "code",
   "execution_count": 87,
   "metadata": {},
   "outputs": [
    {
     "name": "stdout",
     "output_type": "stream",
     "text": [
      "                 ID       LIMIT_BAL           AGE  REPAYMENT_JUL  \\\n",
      "count  30000.000000    30000.000000  30000.000000   30000.000000   \n",
      "mean   15000.500000   167484.322667     35.485500      -0.016700   \n",
      "std     8660.398374   129747.661567      9.217904       1.123802   \n",
      "min        1.000000    10000.000000     21.000000      -2.000000   \n",
      "25%     7500.750000    50000.000000     28.000000      -1.000000   \n",
      "50%    15000.500000   140000.000000     34.000000       0.000000   \n",
      "75%    22500.250000   240000.000000     41.000000       0.000000   \n",
      "max    30000.000000  1000000.000000     79.000000       8.000000   \n",
      "\n",
      "       REPAYMENT_JUN  REPAYMENT_MAY  REPAYMENT_APR  REPAYMENT_MAR  \\\n",
      "count   30000.000000   30000.000000   30000.000000   30000.000000   \n",
      "mean       -0.133767      -0.166200      -0.220667      -0.266200   \n",
      "std         1.197186       1.196868       1.169139       1.133187   \n",
      "min        -2.000000      -2.000000      -2.000000      -2.000000   \n",
      "25%        -1.000000      -1.000000      -1.000000      -1.000000   \n",
      "50%         0.000000       0.000000       0.000000       0.000000   \n",
      "75%         0.000000       0.000000       0.000000       0.000000   \n",
      "max         8.000000       8.000000       8.000000       8.000000   \n",
      "\n",
      "       REPAYMENT_FEB   BILL_AMT_JUL  ...  BILL_AMT_MAY   BILL_AMT_APR  \\\n",
      "count   30000.000000   30000.000000  ...  3.000000e+04   30000.000000   \n",
      "mean       -0.291100   51223.330900  ...  4.701315e+04   43262.948967   \n",
      "std         1.149988   73635.860576  ...  6.934939e+04   64332.856134   \n",
      "min        -2.000000 -165580.000000  ... -1.572640e+05 -170000.000000   \n",
      "25%        -1.000000    3558.750000  ...  2.666250e+03    2326.750000   \n",
      "50%         0.000000   22381.500000  ...  2.008850e+04   19052.000000   \n",
      "75%         0.000000   67091.000000  ...  6.016475e+04   54506.000000   \n",
      "max         8.000000  964511.000000  ...  1.664089e+06  891586.000000   \n",
      "\n",
      "        BILL_AMT_MAR   BILL_AMT_FEB    PAY_AMT_JUL   PAY_AMT_JUN  \\\n",
      "count   30000.000000   30000.000000   30000.000000  3.000000e+04   \n",
      "mean    40311.400967   38871.760400    5663.580500  5.921163e+03   \n",
      "std     60797.155770   59554.107537   16563.280354  2.304087e+04   \n",
      "min    -81334.000000 -339603.000000       0.000000  0.000000e+00   \n",
      "25%      1763.000000    1256.000000    1000.000000  8.330000e+02   \n",
      "50%     18104.500000   17071.000000    2100.000000  2.009000e+03   \n",
      "75%     50190.500000   49198.250000    5006.000000  5.000000e+03   \n",
      "max    927171.000000  961664.000000  873552.000000  1.684259e+06   \n",
      "\n",
      "        PAY_AMT_MAY    PAY_AMT_APR    PAY_AMT_MAR    PAY_AMT_FEB  \n",
      "count   30000.00000   30000.000000   30000.000000   30000.000000  \n",
      "mean     5225.68150    4826.076867    4799.387633    5215.502567  \n",
      "std     17606.96147   15666.159744   15278.305679   17777.465775  \n",
      "min         0.00000       0.000000       0.000000       0.000000  \n",
      "25%       390.00000     296.000000     252.500000     117.750000  \n",
      "50%      1800.00000    1500.000000    1500.000000    1500.000000  \n",
      "75%      4505.00000    4013.250000    4031.500000    4000.000000  \n",
      "max    896040.00000  621000.000000  426529.000000  528666.000000  \n",
      "\n",
      "[8 rows x 21 columns]\n"
     ]
    }
   ],
   "source": [
    "print(credit_data.describe())"
   ]
  },
  {
   "cell_type": "code",
   "execution_count": 88,
   "metadata": {},
   "outputs": [
    {
     "name": "stdout",
     "output_type": "stream",
     "text": [
      "<class 'pandas.core.frame.DataFrame'>\n",
      "RangeIndex: 30000 entries, 0 to 29999\n",
      "Data columns (total 24 columns):\n",
      "ID               30000 non-null int64\n",
      "LIMIT_BAL        30000 non-null float64\n",
      "SEX              30000 non-null object\n",
      "EDUCATION        30000 non-null object\n",
      "MARRIAGE         30000 non-null object\n",
      "AGE              30000 non-null int64\n",
      "REPAYMENT_JUL    30000 non-null int64\n",
      "REPAYMENT_JUN    30000 non-null int64\n",
      "REPAYMENT_MAY    30000 non-null int64\n",
      "REPAYMENT_APR    30000 non-null int64\n",
      "REPAYMENT_MAR    30000 non-null int64\n",
      "REPAYMENT_FEB    30000 non-null int64\n",
      "BILL_AMT_JUL     30000 non-null float64\n",
      "BILL_AMT_JUN     30000 non-null float64\n",
      "BILL_AMT_MAY     30000 non-null float64\n",
      "BILL_AMT_APR     30000 non-null float64\n",
      "BILL_AMT_MAR     30000 non-null float64\n",
      "BILL_AMT_FEB     30000 non-null float64\n",
      "PAY_AMT_JUL      30000 non-null float64\n",
      "PAY_AMT_JUN      30000 non-null float64\n",
      "PAY_AMT_MAY      30000 non-null float64\n",
      "PAY_AMT_APR      30000 non-null float64\n",
      "PAY_AMT_MAR      30000 non-null float64\n",
      "PAY_AMT_FEB      30000 non-null float64\n",
      "dtypes: float64(13), int64(8), object(3)\n",
      "memory usage: 5.5+ MB\n",
      "None\n"
     ]
    }
   ],
   "source": [
    "print(credit_data.info())"
   ]
  },
  {
   "cell_type": "markdown",
   "metadata": {},
   "source": [
    "## Shape\n",
    "shape method is used to check the number of rows and columns of dataframe. First number denotes the number of rows and second number denotes the number of columns\n"
   ]
  },
  {
   "cell_type": "code",
   "execution_count": 151,
   "metadata": {},
   "outputs": [
    {
     "name": "stdout",
     "output_type": "stream",
     "text": [
      "(30000, 25)\n"
     ]
    }
   ],
   "source": [
    "print(credit_data.shape)"
   ]
  },
  {
   "cell_type": "markdown",
   "metadata": {},
   "source": [
    "## Check for Missing Values"
   ]
  },
  {
   "cell_type": "code",
   "execution_count": 149,
   "metadata": {},
   "outputs": [
    {
     "name": "stdout",
     "output_type": "stream",
     "text": [
      "ID               0\n",
      "LIMIT_BAL        0\n",
      "SEX              0\n",
      "EDUCATION        0\n",
      "MARRIAGE         0\n",
      "AGE              0\n",
      "REPAYMENT_JUL    0\n",
      "REPAYMENT_JUN    0\n",
      "REPAYMENT_MAY    0\n",
      "REPAYMENT_APR    0\n",
      "REPAYMENT_MAR    0\n",
      "REPAYMENT_FEB    0\n",
      "BILL_AMT_JUL     0\n",
      "BILL_AMT_JUN     0\n",
      "BILL_AMT_MAY     0\n",
      "BILL_AMT_APR     0\n",
      "BILL_AMT_MAR     0\n",
      "BILL_AMT_FEB     0\n",
      "PAY_AMT_JUL      0\n",
      "PAY_AMT_JUN      0\n",
      "PAY_AMT_MAY      0\n",
      "PAY_AMT_APR      0\n",
      "PAY_AMT_MAR      0\n",
      "PAY_AMT_FEB      0\n",
      "MARRIED          0\n",
      "dtype: int64\n"
     ]
    }
   ],
   "source": [
    "# To see if any column has NaN or Null values\n",
    "print(credit_data.isnull().sum())"
   ]
  },
  {
   "cell_type": "markdown",
   "metadata": {},
   "source": [
    "WooHoo! Our data is completely free of missing values."
   ]
  },
  {
   "cell_type": "markdown",
   "metadata": {},
   "source": [
    "#### Slice data\n",
    "You can use the column name to extract data in a particular column."
   ]
  },
  {
   "cell_type": "code",
   "execution_count": 91,
   "metadata": {},
   "outputs": [
    {
     "data": {
      "text/plain": [
       "0        Post Graduate\n",
       "1        Post Graduate\n",
       "2        Post Graduate\n",
       "3        Post Graduate\n",
       "4        Post Graduate\n",
       "             ...      \n",
       "29995      High School\n",
       "29996      High School\n",
       "29997    Post Graduate\n",
       "29998      High School\n",
       "29999    Post Graduate\n",
       "Name: EDUCATION, Length: 30000, dtype: object"
      ]
     },
     "execution_count": 91,
     "metadata": {},
     "output_type": "execute_result"
    }
   ],
   "source": [
    "### Using name\n",
    "credit_data['EDUCATION']"
   ]
  },
  {
   "cell_type": "markdown",
   "metadata": {},
   "source": [
    "To select multiple columns, you need to use two times the bracket, [[..,..]]\n",
    "\n",
    "The first pair of bracket means you want to select columns, the second pairs of bracket tells what columns you want to return."
   ]
  },
  {
   "cell_type": "code",
   "execution_count": 92,
   "metadata": {},
   "outputs": [
    {
     "name": "stdout",
     "output_type": "stream",
     "text": [
      "           EDUCATION MARRIAGE\n",
      "0      Post Graduate  Married\n",
      "1      Post Graduate   Single\n",
      "2      Post Graduate   Single\n",
      "3      Post Graduate  Married\n",
      "4      Post Graduate  Married\n",
      "...              ...      ...\n",
      "29995    High School  Married\n",
      "29996    High School   Single\n",
      "29997  Post Graduate   Single\n",
      "29998    High School  Married\n",
      "29999  Post Graduate  Married\n",
      "\n",
      "[30000 rows x 2 columns]\n"
     ]
    }
   ],
   "source": [
    "print(credit_data[['EDUCATION','MARRIAGE']])"
   ]
  },
  {
   "cell_type": "markdown",
   "metadata": {},
   "source": [
    "The code below returns the first three rows."
   ]
  },
  {
   "cell_type": "markdown",
   "metadata": {},
   "source": [
    "The first pair of bracket means you want to select columns, the second pairs of bracket tells what columns you want to return."
   ]
  },
  {
   "cell_type": "markdown",
   "metadata": {},
   "source": [
    "You can slice the rows with :"
   ]
  },
  {
   "cell_type": "code",
   "execution_count": 93,
   "metadata": {},
   "outputs": [
    {
     "name": "stdout",
     "output_type": "stream",
     "text": [
      "   ID  LIMIT_BAL     SEX      EDUCATION MARRIAGE  AGE  REPAYMENT_JUL  \\\n",
      "0   1    20000.0  Female  Post Graduate  Married   24              2   \n",
      "1   2   120000.0  Female  Post Graduate   Single   26             -1   \n",
      "2   3    90000.0  Female  Post Graduate   Single   34              0   \n",
      "\n",
      "   REPAYMENT_JUN  REPAYMENT_MAY  REPAYMENT_APR  ...  BILL_AMT_MAY  \\\n",
      "0              2             -1             -1  ...         689.0   \n",
      "1              2              0              0  ...        2682.0   \n",
      "2              0              0              0  ...       13559.0   \n",
      "\n",
      "   BILL_AMT_APR  BILL_AMT_MAR  BILL_AMT_FEB  PAY_AMT_JUL  PAY_AMT_JUN  \\\n",
      "0           0.0           0.0           0.0          0.0        689.0   \n",
      "1        3272.0        3455.0        3261.0          0.0       1000.0   \n",
      "2       14331.0       14948.0       15549.0       1518.0       1500.0   \n",
      "\n",
      "   PAY_AMT_MAY  PAY_AMT_APR  PAY_AMT_MAR  PAY_AMT_FEB  \n",
      "0          0.0          0.0          0.0          0.0  \n",
      "1       1000.0       1000.0          0.0       2000.0  \n",
      "2       1000.0       1000.0       1000.0       5000.0  \n",
      "\n",
      "[3 rows x 24 columns]\n"
     ]
    }
   ],
   "source": [
    "### using a slice for row\n",
    "print(credit_data[0:3])"
   ]
  },
  {
   "cell_type": "markdown",
   "metadata": {},
   "source": [
    "The code above returns the first three rows."
   ]
  },
  {
   "cell_type": "markdown",
   "metadata": {},
   "source": [
    "## loc\n",
    "The loc function is used to select columns by names. As usual, the values before the coma stand for the rows and after refer to the column. You need to use the brackets to select more than one column."
   ]
  },
  {
   "cell_type": "code",
   "execution_count": 95,
   "metadata": {},
   "outputs": [
    {
     "name": "stdout",
     "output_type": "stream",
     "text": [
      "           EDUCATION MARRIAGE\n",
      "0      Post Graduate  Married\n",
      "1      Post Graduate   Single\n",
      "2      Post Graduate   Single\n",
      "3      Post Graduate  Married\n",
      "4      Post Graduate  Married\n",
      "...              ...      ...\n",
      "29995    High School  Married\n",
      "29996    High School   Single\n",
      "29997  Post Graduate   Single\n",
      "29998    High School  Married\n",
      "29999  Post Graduate  Married\n",
      "\n",
      "[30000 rows x 2 columns]\n"
     ]
    }
   ],
   "source": [
    "## Multi col\n",
    "print(credit_data.loc[:,['EDUCATION','MARRIAGE']])\n"
   ]
  },
  {
   "cell_type": "markdown",
   "metadata": {},
   "source": [
    "## iloc\n",
    "There is another method to select multiple rows and columns in Pandas. You can use iloc[]. This method uses the index instead of the columns name. The code below returns the same data frame as above."
   ]
  },
  {
   "cell_type": "code",
   "execution_count": 97,
   "metadata": {},
   "outputs": [
    {
     "name": "stdout",
     "output_type": "stream",
     "text": [
      "           EDUCATION MARRIAGE\n",
      "0      Post Graduate  Married\n",
      "1      Post Graduate   Single\n",
      "2      Post Graduate   Single\n",
      "3      Post Graduate  Married\n",
      "4      Post Graduate  Married\n",
      "...              ...      ...\n",
      "29995    High School  Married\n",
      "29996    High School   Single\n",
      "29997  Post Graduate   Single\n",
      "29998    High School  Married\n",
      "29999  Post Graduate  Married\n",
      "\n",
      "[30000 rows x 2 columns]\n"
     ]
    }
   ],
   "source": [
    "## Multi col\n",
    "print(credit_data.iloc[:,3:5])"
   ]
  },
  {
   "cell_type": "code",
   "execution_count": 99,
   "metadata": {
    "collapsed": true
   },
   "outputs": [],
   "source": [
    "# Lets create a variable using loc method\n",
    "# Create a variable 'MARRIED' where 1 denotes married and 0 denotes not married\n",
    "credit_data['MARRIED'] = 0\n",
    "# Here we first create a variable within the dataframe with the name 'MARRIED' and all values initially assigned to 0.\n",
    "credit_data.loc[credit_data['MARRIAGE']=='Married','MARRIED'] = 1\n",
    "# Now, using loc method , we are subsetting the dataset to select only those rows which has 'MARRIAGE' variable value 'Married' \n",
    "# and assigning the values of 'MARRIAGE' as 1"
   ]
  },
  {
   "cell_type": "code",
   "execution_count": 101,
   "metadata": {},
   "outputs": [
    {
     "name": "stdout",
     "output_type": "stream",
     "text": [
      "  MARRIAGE  MARRIED\n",
      "0  Married        1\n",
      "1   Single        0\n",
      "2   Single        0\n",
      "3  Married        1\n",
      "4  Married        1\n"
     ]
    }
   ],
   "source": [
    "print(credit_data[['MARRIAGE','MARRIED']].head())"
   ]
  },
  {
   "cell_type": "markdown",
   "metadata": {},
   "source": [
    "#### Drop a column\n",
    "You can drop columns using pd.drop()"
   ]
  },
  {
   "cell_type": "code",
   "execution_count": 102,
   "metadata": {},
   "outputs": [
    {
     "name": "stdout",
     "output_type": "stream",
     "text": [
      "          ID  LIMIT_BAL     SEX      EDUCATION MARRIAGE  AGE  REPAYMENT_JUL  \\\n",
      "0          1    20000.0  Female  Post Graduate  Married   24              2   \n",
      "1          2   120000.0  Female  Post Graduate   Single   26             -1   \n",
      "2          3    90000.0  Female  Post Graduate   Single   34              0   \n",
      "3          4    50000.0  Female  Post Graduate  Married   37              0   \n",
      "4          5    50000.0    Male  Post Graduate  Married   57             -1   \n",
      "...      ...        ...     ...            ...      ...  ...            ...   \n",
      "29995  29996   220000.0    Male    High School  Married   39              0   \n",
      "29996  29997   150000.0    Male    High School   Single   43             -1   \n",
      "29997  29998    30000.0    Male  Post Graduate   Single   37              4   \n",
      "29998  29999    80000.0    Male    High School  Married   41              1   \n",
      "29999  30000    50000.0    Male  Post Graduate  Married   46              0   \n",
      "\n",
      "       REPAYMENT_JUN  REPAYMENT_MAY  REPAYMENT_APR  ...  BILL_AMT_MAY  \\\n",
      "0                  2             -1             -1  ...         689.0   \n",
      "1                  2              0              0  ...        2682.0   \n",
      "2                  0              0              0  ...       13559.0   \n",
      "3                  0              0              0  ...       49291.0   \n",
      "4                  0             -1              0  ...       35835.0   \n",
      "...              ...            ...            ...  ...           ...   \n",
      "29995              0              0              0  ...      208365.0   \n",
      "29996             -1             -1             -1  ...        3502.0   \n",
      "29997              3              2             -1  ...        2758.0   \n",
      "29998             -1              0              0  ...       76304.0   \n",
      "29999              0              0              0  ...       49764.0   \n",
      "\n",
      "       BILL_AMT_APR  BILL_AMT_MAR  BILL_AMT_FEB  PAY_AMT_JUL  PAY_AMT_JUN  \\\n",
      "0               0.0           0.0           0.0          0.0        689.0   \n",
      "1            3272.0        3455.0        3261.0          0.0       1000.0   \n",
      "2           14331.0       14948.0       15549.0       1518.0       1500.0   \n",
      "3           28314.0       28959.0       29547.0       2000.0       2019.0   \n",
      "4           20940.0       19146.0       19131.0       2000.0      36681.0   \n",
      "...             ...           ...           ...          ...          ...   \n",
      "29995       88004.0       31237.0       15980.0       8500.0      20000.0   \n",
      "29996        8979.0        5190.0           0.0       1837.0       3526.0   \n",
      "29997       20878.0       20582.0       19357.0          0.0          0.0   \n",
      "29998       52774.0       11855.0       48944.0      85900.0       3409.0   \n",
      "29999       36535.0       32428.0       15313.0       2078.0       1800.0   \n",
      "\n",
      "       PAY_AMT_MAY  PAY_AMT_APR  PAY_AMT_MAR  PAY_AMT_FEB  \n",
      "0              0.0          0.0          0.0          0.0  \n",
      "1           1000.0       1000.0          0.0       2000.0  \n",
      "2           1000.0       1000.0       1000.0       5000.0  \n",
      "3           1200.0       1100.0       1069.0       1000.0  \n",
      "4          10000.0       9000.0        689.0        679.0  \n",
      "...            ...          ...          ...          ...  \n",
      "29995       5003.0       3047.0       5000.0       1000.0  \n",
      "29996       8998.0        129.0          0.0          0.0  \n",
      "29997      22000.0       4200.0       2000.0       3100.0  \n",
      "29998       1178.0       1926.0      52964.0       1804.0  \n",
      "29999       1430.0       1000.0       1000.0       1000.0  \n",
      "\n",
      "[30000 rows x 24 columns]\n"
     ]
    }
   ],
   "source": [
    "print(credit_data.drop(columns=['MARRIED']))"
   ]
  },
  {
   "cell_type": "markdown",
   "metadata": {},
   "source": [
    "Since we did not assign dropped dataframe to any variable, the actual dataframe still has 'MARRIED' variable"
   ]
  },
  {
   "cell_type": "code",
   "execution_count": 103,
   "metadata": {},
   "outputs": [
    {
     "name": "stdout",
     "output_type": "stream",
     "text": [
      "   ID  LIMIT_BAL     SEX      EDUCATION MARRIAGE  AGE  REPAYMENT_JUL  \\\n",
      "0   1    20000.0  Female  Post Graduate  Married   24              2   \n",
      "1   2   120000.0  Female  Post Graduate   Single   26             -1   \n",
      "2   3    90000.0  Female  Post Graduate   Single   34              0   \n",
      "3   4    50000.0  Female  Post Graduate  Married   37              0   \n",
      "4   5    50000.0    Male  Post Graduate  Married   57             -1   \n",
      "\n",
      "   REPAYMENT_JUN  REPAYMENT_MAY  REPAYMENT_APR  ...  BILL_AMT_APR  \\\n",
      "0              2             -1             -1  ...           0.0   \n",
      "1              2              0              0  ...        3272.0   \n",
      "2              0              0              0  ...       14331.0   \n",
      "3              0              0              0  ...       28314.0   \n",
      "4              0             -1              0  ...       20940.0   \n",
      "\n",
      "   BILL_AMT_MAR  BILL_AMT_FEB  PAY_AMT_JUL  PAY_AMT_JUN  PAY_AMT_MAY  \\\n",
      "0           0.0           0.0          0.0        689.0          0.0   \n",
      "1        3455.0        3261.0          0.0       1000.0       1000.0   \n",
      "2       14948.0       15549.0       1518.0       1500.0       1000.0   \n",
      "3       28959.0       29547.0       2000.0       2019.0       1200.0   \n",
      "4       19146.0       19131.0       2000.0      36681.0      10000.0   \n",
      "\n",
      "   PAY_AMT_APR  PAY_AMT_MAR  PAY_AMT_FEB  MARRIED  \n",
      "0          0.0          0.0          0.0        1  \n",
      "1       1000.0          0.0       2000.0        0  \n",
      "2       1000.0       1000.0       5000.0        0  \n",
      "3       1100.0       1069.0       1000.0        1  \n",
      "4       9000.0        689.0        679.0        1  \n",
      "\n",
      "[5 rows x 25 columns]\n"
     ]
    }
   ],
   "source": [
    "print(credit_data.head())"
   ]
  },
  {
   "cell_type": "markdown",
   "metadata": {},
   "source": [
    "print(credit_data.head())"
   ]
  },
  {
   "cell_type": "markdown",
   "metadata": {},
   "source": [
    "## Concatenation\n",
    "You can concatenate two DataFrame in Pandas. You can use pd.concat()\n",
    "\n",
    "First of all, you need to create two DataFrames. So far so good, you are already familiar with dataframe creation."
   ]
  },
  {
   "cell_type": "markdown",
   "metadata": {},
   "source": [
    "Let's create two dataframes from our credit_data.\n",
    "Divide the dataframe into two dataframes : Married_data, Unmarried_data"
   ]
  },
  {
   "cell_type": "code",
   "execution_count": 109,
   "metadata": {},
   "outputs": [
    {
     "name": "stdout",
     "output_type": "stream",
     "text": [
      "    ID  LIMIT_BAL     SEX      EDUCATION MARRIAGE  AGE  REPAYMENT_JUL  \\\n",
      "0    1    20000.0  Female  Post Graduate  Married   24              2   \n",
      "3    4    50000.0  Female  Post Graduate  Married   37              0   \n",
      "4    5    50000.0    Male  Post Graduate  Married   57             -1   \n",
      "8    9   140000.0  Female    High School  Married   28              0   \n",
      "17  18   320000.0    Male       Graduate  Married   49              0   \n",
      "\n",
      "    REPAYMENT_JUN  REPAYMENT_MAY  REPAYMENT_APR  ...  BILL_AMT_APR  \\\n",
      "0               2             -1             -1  ...           0.0   \n",
      "3               0              0              0  ...       28314.0   \n",
      "4               0             -1              0  ...       20940.0   \n",
      "8               0              2              0  ...       12211.0   \n",
      "17              0              0             -1  ...       70074.0   \n",
      "\n",
      "    BILL_AMT_MAR  BILL_AMT_FEB  PAY_AMT_JUL  PAY_AMT_JUN  PAY_AMT_MAY  \\\n",
      "0            0.0           0.0          0.0        689.0          0.0   \n",
      "3        28959.0       29547.0       2000.0       2019.0       1200.0   \n",
      "4        19146.0       19131.0       2000.0      36681.0      10000.0   \n",
      "8        11793.0        3719.0       3329.0          0.0        432.0   \n",
      "17        5856.0      195599.0      10358.0      10000.0      75940.0   \n",
      "\n",
      "    PAY_AMT_APR  PAY_AMT_MAR  PAY_AMT_FEB  MARRIED  \n",
      "0           0.0          0.0          0.0        1  \n",
      "3        1100.0       1069.0       1000.0        1  \n",
      "4        9000.0        689.0        679.0        1  \n",
      "8        1000.0       1000.0       1000.0        1  \n",
      "17      20000.0     195599.0      50000.0        1  \n",
      "\n",
      "[5 rows x 25 columns]\n"
     ]
    }
   ],
   "source": [
    "credit_married_data = credit_data[credit_data['MARRIED']==1]\n",
    "print(credit_married_data.head())"
   ]
  },
  {
   "cell_type": "code",
   "execution_count": 106,
   "metadata": {},
   "outputs": [
    {
     "name": "stdout",
     "output_type": "stream",
     "text": [
      "   ID  LIMIT_BAL     SEX      EDUCATION MARRIAGE  AGE  REPAYMENT_JUL  \\\n",
      "1   2   120000.0  Female  Post Graduate   Single   26             -1   \n",
      "2   3    90000.0  Female  Post Graduate   Single   34              0   \n",
      "5   6    50000.0    Male       Graduate   Single   37              0   \n",
      "6   7   500000.0    Male       Graduate   Single   29              0   \n",
      "7   8   100000.0  Female  Post Graduate   Single   23              0   \n",
      "\n",
      "   REPAYMENT_JUN  REPAYMENT_MAY  REPAYMENT_APR  ...  BILL_AMT_APR  \\\n",
      "1              2              0              0  ...        3272.0   \n",
      "2              0              0              0  ...       14331.0   \n",
      "5              0              0              0  ...       19394.0   \n",
      "6              0              0              0  ...      542653.0   \n",
      "7             -1             -1              0  ...         221.0   \n",
      "\n",
      "   BILL_AMT_MAR  BILL_AMT_FEB  PAY_AMT_JUL  PAY_AMT_JUN  PAY_AMT_MAY  \\\n",
      "1        3455.0        3261.0          0.0       1000.0       1000.0   \n",
      "2       14948.0       15549.0       1518.0       1500.0       1000.0   \n",
      "5       19619.0       20024.0       2500.0       1815.0        657.0   \n",
      "6      483003.0      473944.0      55000.0      40000.0      38000.0   \n",
      "7        -159.0         567.0        380.0        601.0          0.0   \n",
      "\n",
      "   PAY_AMT_APR  PAY_AMT_MAR  PAY_AMT_FEB  MARRIED  \n",
      "1       1000.0          0.0       2000.0        0  \n",
      "2       1000.0       1000.0       5000.0        0  \n",
      "5       1000.0       1000.0        800.0        0  \n",
      "6      20239.0      13750.0      13770.0        0  \n",
      "7        581.0       1687.0       1542.0        0  \n",
      "\n",
      "[5 rows x 25 columns]\n"
     ]
    }
   ],
   "source": [
    "credit_unmarried_data = credit_data[credit_data['MARRIED']==0]\n",
    "print(credit_unmarried_data.head())"
   ]
  },
  {
   "cell_type": "markdown",
   "metadata": {},
   "source": [
    "Now, concatenate both dataframes to combine into one dataframe."
   ]
  },
  {
   "cell_type": "code",
   "execution_count": 111,
   "metadata": {},
   "outputs": [
    {
     "name": "stdout",
     "output_type": "stream",
     "text": [
      "    ID  LIMIT_BAL     SEX      EDUCATION MARRIAGE  AGE  REPAYMENT_JUL  \\\n",
      "0    1    20000.0  Female  Post Graduate  Married   24              2   \n",
      "3    4    50000.0  Female  Post Graduate  Married   37              0   \n",
      "4    5    50000.0    Male  Post Graduate  Married   57             -1   \n",
      "8    9   140000.0  Female    High School  Married   28              0   \n",
      "17  18   320000.0    Male       Graduate  Married   49              0   \n",
      "\n",
      "    REPAYMENT_JUN  REPAYMENT_MAY  REPAYMENT_APR  ...  BILL_AMT_APR  \\\n",
      "0               2             -1             -1  ...           0.0   \n",
      "3               0              0              0  ...       28314.0   \n",
      "4               0             -1              0  ...       20940.0   \n",
      "8               0              2              0  ...       12211.0   \n",
      "17              0              0             -1  ...       70074.0   \n",
      "\n",
      "    BILL_AMT_MAR  BILL_AMT_FEB  PAY_AMT_JUL  PAY_AMT_JUN  PAY_AMT_MAY  \\\n",
      "0            0.0           0.0          0.0        689.0          0.0   \n",
      "3        28959.0       29547.0       2000.0       2019.0       1200.0   \n",
      "4        19146.0       19131.0       2000.0      36681.0      10000.0   \n",
      "8        11793.0        3719.0       3329.0          0.0        432.0   \n",
      "17        5856.0      195599.0      10358.0      10000.0      75940.0   \n",
      "\n",
      "    PAY_AMT_APR  PAY_AMT_MAR  PAY_AMT_FEB  MARRIED  \n",
      "0           0.0          0.0          0.0        1  \n",
      "3        1100.0       1069.0       1000.0        1  \n",
      "4        9000.0        689.0        679.0        1  \n",
      "8        1000.0       1000.0       1000.0        1  \n",
      "17      20000.0     195599.0      50000.0        1  \n",
      "\n",
      "[5 rows x 25 columns]\n"
     ]
    }
   ],
   "source": [
    "credit_concat = pd.concat([credit_married_data,credit_unmarried_data]) \n",
    "print(credit_concat.head())"
   ]
  },
  {
   "cell_type": "markdown",
   "metadata": {},
   "source": [
    "Since, unmarried data is concatenated after married data, all unmarried rows will come after all married rows. To check, use tail()."
   ]
  },
  {
   "cell_type": "code",
   "execution_count": 112,
   "metadata": {},
   "outputs": [
    {
     "name": "stdout",
     "output_type": "stream",
     "text": [
      "          ID  LIMIT_BAL   SEX      EDUCATION MARRIAGE  AGE  REPAYMENT_JUL  \\\n",
      "29989  29990   150000.0  Male       Graduate   Single   35             -1   \n",
      "29993  29994   100000.0  Male       Graduate   Single   38              0   \n",
      "29994  29995    80000.0  Male  Post Graduate   Single   34              2   \n",
      "29996  29997   150000.0  Male    High School   Single   43             -1   \n",
      "29997  29998    30000.0  Male  Post Graduate   Single   37              4   \n",
      "\n",
      "       REPAYMENT_JUN  REPAYMENT_MAY  REPAYMENT_APR  ...  BILL_AMT_APR  \\\n",
      "29989             -1             -1             -1  ...         780.0   \n",
      "29993             -1             -1              0  ...       70626.0   \n",
      "29994              2              2              2  ...       77519.0   \n",
      "29996             -1             -1             -1  ...        8979.0   \n",
      "29997              3              2             -1  ...       20878.0   \n",
      "\n",
      "       BILL_AMT_MAR  BILL_AMT_FEB  PAY_AMT_JUL  PAY_AMT_JUN  PAY_AMT_MAY  \\\n",
      "29989           0.0           0.0       9054.0          0.0        783.0   \n",
      "29993       69473.0       55004.0       2000.0     111784.0       4000.0   \n",
      "29994       82607.0       81158.0       7000.0       3500.0          0.0   \n",
      "29996        5190.0           0.0       1837.0       3526.0       8998.0   \n",
      "29997       20582.0       19357.0          0.0          0.0      22000.0   \n",
      "\n",
      "       PAY_AMT_APR  PAY_AMT_MAR  PAY_AMT_FEB  MARRIED  \n",
      "29989          0.0          0.0          0.0        0  \n",
      "29993       3000.0       2000.0       2000.0        0  \n",
      "29994       7000.0          0.0       4000.0        0  \n",
      "29996        129.0          0.0          0.0        0  \n",
      "29997       4200.0       2000.0       3100.0        0  \n",
      "\n",
      "[5 rows x 25 columns]\n"
     ]
    }
   ],
   "source": [
    "print(credit_concat.tail())"
   ]
  },
  {
   "cell_type": "markdown",
   "metadata": {},
   "source": [
    "Let's create a small subset of data from the original data by taking top 20 rows and three columns."
   ]
  },
  {
   "cell_type": "code",
   "execution_count": 119,
   "metadata": {},
   "outputs": [
    {
     "name": "stdout",
     "output_type": "stream",
     "text": [
      "(20, 3)\n"
     ]
    }
   ],
   "source": [
    "credit_small = credit_data.iloc[:20,2:5]\n",
    "print(credit_small.shape)"
   ]
  },
  {
   "cell_type": "markdown",
   "metadata": {},
   "source": [
    "## Drop_duplicates\n",
    "If a dataset can contain duplicates information use, `drop_duplicates` is an easy to exclude duplicate rows."
   ]
  },
  {
   "cell_type": "code",
   "execution_count": 120,
   "metadata": {},
   "outputs": [
    {
     "name": "stdout",
     "output_type": "stream",
     "text": [
      "       SEX      EDUCATION MARRIAGE\n",
      "0   Female  Post Graduate  Married\n",
      "1   Female  Post Graduate   Single\n",
      "2   Female  Post Graduate   Single\n",
      "3   Female  Post Graduate  Married\n",
      "4     Male  Post Graduate  Married\n",
      "5     Male       Graduate   Single\n",
      "6     Male       Graduate   Single\n",
      "7   Female  Post Graduate   Single\n",
      "8   Female    High School  Married\n",
      "9     Male    High School   Single\n",
      "10  Female    High School   Single\n",
      "11  Female       Graduate   Single\n",
      "12  Female  Post Graduate   Single\n",
      "13    Male  Post Graduate   Single\n",
      "14    Male       Graduate   Single\n",
      "15  Female    High School   Others\n",
      "16    Male       Graduate   Single\n",
      "17    Male       Graduate  Married\n",
      "18  Female       Graduate  Married\n",
      "19  Female       Graduate   Single\n"
     ]
    }
   ],
   "source": [
    "print(credit_small)"
   ]
  },
  {
   "cell_type": "markdown",
   "metadata": {},
   "source": [
    "We can see that `credit_small` has many duplicate observations. Let's remove those duplicates from the dataset."
   ]
  },
  {
   "cell_type": "code",
   "execution_count": 127,
   "metadata": {},
   "outputs": [
    {
     "name": "stdout",
     "output_type": "stream",
     "text": [
      "       SEX      EDUCATION MARRIAGE\n",
      "0   Female  Post Graduate  Married\n",
      "1   Female  Post Graduate   Single\n",
      "4     Male  Post Graduate  Married\n",
      "5     Male       Graduate   Single\n",
      "8   Female    High School  Married\n",
      "9     Male    High School   Single\n",
      "10  Female    High School   Single\n",
      "11  Female       Graduate   Single\n",
      "13    Male  Post Graduate   Single\n",
      "15  Female    High School   Others\n",
      "17    Male       Graduate  Married\n",
      "18  Female       Graduate  Married\n"
     ]
    }
   ],
   "source": [
    "credit_small_no_dup = credit_small.drop_duplicates()\n",
    "print(credit_small_no_dup)"
   ]
  },
  {
   "cell_type": "code",
   "execution_count": 126,
   "metadata": {},
   "outputs": [
    {
     "name": "stdout",
     "output_type": "stream",
     "text": [
      "(12, 3)\n"
     ]
    }
   ],
   "source": [
    "print(credit_small_no_dup.shape)"
   ]
  },
  {
   "cell_type": "markdown",
   "metadata": {},
   "source": [
    "We can see that now it has only 12 rows, i.e., 8 rows which were duplicates have been dropped."
   ]
  },
  {
   "cell_type": "markdown",
   "metadata": {},
   "source": [
    "Let's say we wanted to drop duplicates only basis either a single column or some column subset. "
   ]
  },
  {
   "cell_type": "code",
   "execution_count": 128,
   "metadata": {},
   "outputs": [
    {
     "name": "stdout",
     "output_type": "stream",
     "text": [
      "       SEX      EDUCATION MARRIAGE\n",
      "0   Female  Post Graduate  Married\n",
      "1   Female  Post Graduate   Single\n",
      "5     Male       Graduate   Single\n",
      "8   Female    High School  Married\n",
      "9     Male    High School   Single\n",
      "15  Female    High School   Others\n",
      "17    Male       Graduate  Married\n"
     ]
    }
   ],
   "source": [
    "credit_small_no_dup2 = credit_small.drop_duplicates(['EDUCATION','MARRIAGE'])\n",
    "print(credit_small_no_dup2)"
   ]
  },
  {
   "cell_type": "code",
   "execution_count": 129,
   "metadata": {},
   "outputs": [
    {
     "name": "stdout",
     "output_type": "stream",
     "text": [
      "(7, 3)\n"
     ]
    }
   ],
   "source": [
    "print(credit_small_no_dup2.shape)"
   ]
  },
  {
   "cell_type": "markdown",
   "metadata": {},
   "source": [
    "Now, it has only 7 rows."
   ]
  },
  {
   "cell_type": "markdown",
   "metadata": {},
   "source": [
    "## Sort values\n",
    "You can sort value with sort_values(). You need to specify basis which column you want to sort your dataframe."
   ]
  },
  {
   "cell_type": "code",
   "execution_count": 131,
   "metadata": {},
   "outputs": [
    {
     "name": "stdout",
     "output_type": "stream",
     "text": [
      "       SEX      EDUCATION MARRIAGE\n",
      "0   Female  Post Graduate  Married\n",
      "15  Female    High School   Others\n",
      "12  Female  Post Graduate   Single\n",
      "11  Female       Graduate   Single\n",
      "10  Female    High School   Single\n",
      "18  Female       Graduate  Married\n",
      "8   Female    High School  Married\n",
      "19  Female       Graduate   Single\n",
      "3   Female  Post Graduate  Married\n",
      "2   Female  Post Graduate   Single\n",
      "1   Female  Post Graduate   Single\n",
      "7   Female  Post Graduate   Single\n",
      "6     Male       Graduate   Single\n",
      "5     Male       Graduate   Single\n",
      "4     Male  Post Graduate  Married\n",
      "13    Male  Post Graduate   Single\n",
      "14    Male       Graduate   Single\n",
      "16    Male       Graduate   Single\n",
      "17    Male       Graduate  Married\n",
      "9     Male    High School   Single\n"
     ]
    }
   ],
   "source": [
    "print(credit_small.sort_values('SEX'))"
   ]
  },
  {
   "cell_type": "code",
   "execution_count": 132,
   "metadata": {},
   "outputs": [
    {
     "name": "stdout",
     "output_type": "stream",
     "text": [
      "       SEX      EDUCATION MARRIAGE\n",
      "11  Female       Graduate   Single\n",
      "18  Female       Graduate  Married\n",
      "19  Female       Graduate   Single\n",
      "8   Female    High School  Married\n",
      "10  Female    High School   Single\n",
      "15  Female    High School   Others\n",
      "0   Female  Post Graduate  Married\n",
      "1   Female  Post Graduate   Single\n",
      "2   Female  Post Graduate   Single\n",
      "3   Female  Post Graduate  Married\n",
      "7   Female  Post Graduate   Single\n",
      "12  Female  Post Graduate   Single\n",
      "5     Male       Graduate   Single\n",
      "6     Male       Graduate   Single\n",
      "14    Male       Graduate   Single\n",
      "16    Male       Graduate   Single\n",
      "17    Male       Graduate  Married\n",
      "9     Male    High School   Single\n",
      "4     Male  Post Graduate  Married\n",
      "13    Male  Post Graduate   Single\n"
     ]
    }
   ],
   "source": [
    "print(credit_small.sort_values(['SEX','EDUCATION']))"
   ]
  },
  {
   "cell_type": "markdown",
   "metadata": {},
   "source": [
    "## Rename\n",
    "You can use rename to rename a column in Pandas. The first value is the current column name and the second value is the new column name."
   ]
  },
  {
   "cell_type": "code",
   "execution_count": 134,
   "metadata": {},
   "outputs": [
    {
     "name": "stdout",
     "output_type": "stream",
     "text": [
      "   sex_of_customer edu_of_customer MARRIAGE\n",
      "0           Female   Post Graduate  Married\n",
      "1           Female   Post Graduate   Single\n",
      "2           Female   Post Graduate   Single\n",
      "3           Female   Post Graduate  Married\n",
      "4             Male   Post Graduate  Married\n",
      "5             Male        Graduate   Single\n",
      "6             Male        Graduate   Single\n",
      "7           Female   Post Graduate   Single\n",
      "8           Female     High School  Married\n",
      "9             Male     High School   Single\n",
      "10          Female     High School   Single\n",
      "11          Female        Graduate   Single\n",
      "12          Female   Post Graduate   Single\n",
      "13            Male   Post Graduate   Single\n",
      "14            Male        Graduate   Single\n",
      "15          Female     High School   Others\n",
      "16            Male        Graduate   Single\n",
      "17            Male        Graduate  Married\n",
      "18          Female        Graduate  Married\n",
      "19          Female        Graduate   Single\n"
     ]
    }
   ],
   "source": [
    "print(credit_small.rename(columns={\"SEX\": \"sex_of_customer\", \"EDUCATION\": \"edu_of_customer\"}))"
   ]
  },
  {
   "cell_type": "markdown",
   "metadata": {},
   "source": [
    "Find the mean LIMIT_BAL of male customers who are married and post graduates."
   ]
  },
  {
   "cell_type": "code",
   "execution_count": 143,
   "metadata": {
    "collapsed": true
   },
   "outputs": [],
   "source": [
    "# For this, first we create the data and then find the mean.\n",
    "filtered_data1 = credit_data[(credit_data['SEX']=='Male') & (credit_data['MARRIAGE']=='Married') & (credit_data['EDUCATION']=='Post Graduate')]"
   ]
  },
  {
   "cell_type": "code",
   "execution_count": 145,
   "metadata": {},
   "outputs": [
    {
     "name": "stdout",
     "output_type": "stream",
     "text": [
      "(2370, 25)\n",
      "162101.2658227848\n"
     ]
    }
   ],
   "source": [
    "print(filtered_data1.shape)\n",
    "print(filtered_data1.LIMIT_BAL.mean())"
   ]
  },
  {
   "cell_type": "markdown",
   "metadata": {},
   "source": [
    "Rs 162101 is the mean value of Limit_Bal for male customers who are married and post graduates."
   ]
  },
  {
   "cell_type": "markdown",
   "metadata": {},
   "source": [
    "Find the max Age of Female customers in one line of code."
   ]
  },
  {
   "cell_type": "code",
   "execution_count": 147,
   "metadata": {},
   "outputs": [
    {
     "name": "stdout",
     "output_type": "stream",
     "text": [
      "75\n"
     ]
    }
   ],
   "source": [
    "print(credit_data.loc[credit_data['SEX']=='Female','AGE'].max())"
   ]
  },
  {
   "cell_type": "markdown",
   "metadata": {},
   "source": [
    "Repeat above code for male customers."
   ]
  },
  {
   "cell_type": "code",
   "execution_count": 148,
   "metadata": {},
   "outputs": [
    {
     "name": "stdout",
     "output_type": "stream",
     "text": [
      "79\n"
     ]
    }
   ],
   "source": [
    "print(credit_data.loc[credit_data['SEX']=='Male','AGE'].max())"
   ]
  },
  {
   "cell_type": "markdown",
   "metadata": {},
   "source": [
    "Groupby\n",
    "An easy way to see the data is to use the groupby method. This method can help you to summarize the data by group. Below is a list of methods available with groupby:\n",
    "* count: count\n",
    "* min: min\n",
    "* max: max\n",
    "* mean: mean\n",
    "* median: median\n",
    "* standard deviation: std\n"
   ]
  },
  {
   "cell_type": "markdown",
   "metadata": {},
   "source": [
    "Inside groupby(), you can use the column you want to apply the method."
   ]
  },
  {
   "cell_type": "markdown",
   "metadata": {},
   "source": [
    "Let's have a look at a single grouping with the credit_data dataset. Find the mean of Limit_Bal of all the customers by type of Education."
   ]
  },
  {
   "cell_type": "code",
   "execution_count": 155,
   "metadata": {},
   "outputs": [
    {
     "name": "stdout",
     "output_type": "stream",
     "text": [
      "EDUCATION\n",
      "Graduate         212956.069910\n",
      "High School      126550.270490\n",
      "Others           220894.308943\n",
      "Post Graduate    147062.437634\n",
      "Unknown          167205.797101\n",
      "Name: LIMIT_BAL, dtype: float64\n"
     ]
    }
   ],
   "source": [
    "print(credit_data.groupby(['EDUCATION'])['LIMIT_BAL'].mean())"
   ]
  },
  {
   "cell_type": "markdown",
   "metadata": {},
   "source": [
    "You can also group by multiple columns. \n",
    "\n",
    "For instance, find the minimum of age by type of EDUCATION AND SEX"
   ]
  },
  {
   "cell_type": "code",
   "execution_count": 158,
   "metadata": {},
   "outputs": [
    {
     "name": "stdout",
     "output_type": "stream",
     "text": [
      "SEX     EDUCATION    \n",
      "Female  Graduate         70\n",
      "        High School      74\n",
      "        Others           59\n",
      "        Post Graduate    75\n",
      "        Unknown          64\n",
      "Male    Graduate         79\n",
      "        High School      73\n",
      "        Others           52\n",
      "        Post Graduate    75\n",
      "        Unknown          66\n",
      "Name: AGE, dtype: int64\n"
     ]
    }
   ],
   "source": [
    "print(credit_data.groupby(['SEX','EDUCATION'])['AGE'].max())"
   ]
  },
  {
   "cell_type": "markdown",
   "metadata": {},
   "source": [
    "Find the mean of all numeric columns in the dataset."
   ]
  },
  {
   "cell_type": "code",
   "execution_count": 160,
   "metadata": {},
   "outputs": [
    {
     "name": "stdout",
     "output_type": "stream",
     "text": [
      "ID                15000.500000\n",
      "LIMIT_BAL        167484.322667\n",
      "AGE                  35.485500\n",
      "REPAYMENT_JUL        -0.016700\n",
      "REPAYMENT_JUN        -0.133767\n",
      "REPAYMENT_MAY        -0.166200\n",
      "REPAYMENT_APR        -0.220667\n",
      "REPAYMENT_MAR        -0.266200\n",
      "REPAYMENT_FEB        -0.291100\n",
      "BILL_AMT_JUL      51223.330900\n",
      "BILL_AMT_JUN      49179.075167\n",
      "BILL_AMT_MAY      47013.154800\n",
      "BILL_AMT_APR      43262.948967\n",
      "BILL_AMT_MAR      40311.400967\n",
      "BILL_AMT_FEB      38871.760400\n",
      "PAY_AMT_JUL        5663.580500\n",
      "PAY_AMT_JUN        5921.163500\n",
      "PAY_AMT_MAY        5225.681500\n",
      "PAY_AMT_APR        4826.076867\n",
      "PAY_AMT_MAR        4799.387633\n",
      "PAY_AMT_FEB        5215.502567\n",
      "MARRIED               0.455300\n",
      "dtype: float64\n"
     ]
    }
   ],
   "source": [
    "print(credit_data.mean(axis='rows'))"
   ]
  },
  {
   "cell_type": "markdown",
   "metadata": {},
   "source": [
    "## isin()\n",
    "Pandas isin() method is used to filter data frames. isin() method helps in selecting rows with having a particular(or Multiple) value in a particular column."
   ]
  },
  {
   "cell_type": "markdown",
   "metadata": {},
   "source": [
    "Create a subset of the data to get details of customers who are Graudated and Post Graduated"
   ]
  },
  {
   "cell_type": "code",
   "execution_count": 163,
   "metadata": {},
   "outputs": [
    {
     "name": "stdout",
     "output_type": "stream",
     "text": [
      "   ID  LIMIT_BAL     SEX      EDUCATION MARRIAGE  AGE  REPAYMENT_JUL  \\\n",
      "0   1    20000.0  Female  Post Graduate  Married   24              2   \n",
      "1   2   120000.0  Female  Post Graduate   Single   26             -1   \n",
      "2   3    90000.0  Female  Post Graduate   Single   34              0   \n",
      "3   4    50000.0  Female  Post Graduate  Married   37              0   \n",
      "4   5    50000.0    Male  Post Graduate  Married   57             -1   \n",
      "\n",
      "   REPAYMENT_JUN  REPAYMENT_MAY  REPAYMENT_APR  ...  BILL_AMT_APR  \\\n",
      "0              2             -1             -1  ...           0.0   \n",
      "1              2              0              0  ...        3272.0   \n",
      "2              0              0              0  ...       14331.0   \n",
      "3              0              0              0  ...       28314.0   \n",
      "4              0             -1              0  ...       20940.0   \n",
      "\n",
      "   BILL_AMT_MAR  BILL_AMT_FEB  PAY_AMT_JUL  PAY_AMT_JUN  PAY_AMT_MAY  \\\n",
      "0           0.0           0.0          0.0        689.0          0.0   \n",
      "1        3455.0        3261.0          0.0       1000.0       1000.0   \n",
      "2       14948.0       15549.0       1518.0       1500.0       1000.0   \n",
      "3       28959.0       29547.0       2000.0       2019.0       1200.0   \n",
      "4       19146.0       19131.0       2000.0      36681.0      10000.0   \n",
      "\n",
      "   PAY_AMT_APR  PAY_AMT_MAR  PAY_AMT_FEB  MARRIED  \n",
      "0          0.0          0.0          0.0        1  \n",
      "1       1000.0          0.0       2000.0        0  \n",
      "2       1000.0       1000.0       5000.0        0  \n",
      "3       1100.0       1069.0       1000.0        1  \n",
      "4       9000.0        689.0        679.0        1  \n",
      "\n",
      "[5 rows x 25 columns]\n"
     ]
    }
   ],
   "source": [
    "credit_data_subset = credit_data[credit_data['EDUCATION'].isin(['Graduate','Post Graduate'])]\n",
    "print(credit_data_subset.head())"
   ]
  },
  {
   "cell_type": "markdown",
   "metadata": {},
   "source": [
    "## value_counts()\n",
    "To count the values of categorical variable"
   ]
  },
  {
   "cell_type": "code",
   "execution_count": 164,
   "metadata": {},
   "outputs": [
    {
     "name": "stdout",
     "output_type": "stream",
     "text": [
      "Post Graduate    14030\n",
      "Graduate         10585\n",
      "High School       4917\n",
      "Unknown            345\n",
      "Others             123\n",
      "Name: EDUCATION, dtype: int64\n"
     ]
    }
   ],
   "source": [
    "print(credit_data['EDUCATION'].value_counts())"
   ]
  },
  {
   "cell_type": "markdown",
   "metadata": {},
   "source": [
    "## Pivot Table\n",
    "Create a pivot table of the dataset with EDUCATION AND SEX as row indexes and mean of LIMIT_BAL as column for each row index."
   ]
  },
  {
   "cell_type": "code",
   "execution_count": 167,
   "metadata": {},
   "outputs": [
    {
     "data": {
      "text/html": [
       "<div>\n",
       "<style scoped>\n",
       "    .dataframe tbody tr th:only-of-type {\n",
       "        vertical-align: middle;\n",
       "    }\n",
       "\n",
       "    .dataframe tbody tr th {\n",
       "        vertical-align: top;\n",
       "    }\n",
       "\n",
       "    .dataframe thead th {\n",
       "        text-align: right;\n",
       "    }\n",
       "</style>\n",
       "<table border=\"1\" class=\"dataframe\">\n",
       "  <thead>\n",
       "    <tr style=\"text-align: right;\">\n",
       "      <th>EDUCATION</th>\n",
       "      <th>Graduate</th>\n",
       "      <th>High School</th>\n",
       "      <th>Others</th>\n",
       "      <th>Post Graduate</th>\n",
       "      <th>Unknown</th>\n",
       "    </tr>\n",
       "    <tr>\n",
       "      <th>SEX</th>\n",
       "      <th></th>\n",
       "      <th></th>\n",
       "      <th></th>\n",
       "      <th></th>\n",
       "      <th></th>\n",
       "    </tr>\n",
       "  </thead>\n",
       "  <tbody>\n",
       "    <tr>\n",
       "      <th>Female</th>\n",
       "      <td>208557.213930</td>\n",
       "      <td>130362.145542</td>\n",
       "      <td>233209.876543</td>\n",
       "      <td>155232.902033</td>\n",
       "      <td>170184.331797</td>\n",
       "    </tr>\n",
       "    <tr>\n",
       "      <th>Male</th>\n",
       "      <td>219251.263206</td>\n",
       "      <td>120943.557789</td>\n",
       "      <td>197142.857143</td>\n",
       "      <td>133902.121325</td>\n",
       "      <td>162156.250000</td>\n",
       "    </tr>\n",
       "  </tbody>\n",
       "</table>\n",
       "</div>"
      ],
      "text/plain": [
       "EDUCATION       Graduate    High School         Others  Post Graduate  \\\n",
       "SEX                                                                     \n",
       "Female     208557.213930  130362.145542  233209.876543  155232.902033   \n",
       "Male       219251.263206  120943.557789  197142.857143  133902.121325   \n",
       "\n",
       "EDUCATION        Unknown  \n",
       "SEX                       \n",
       "Female     170184.331797  \n",
       "Male       162156.250000  "
      ]
     },
     "execution_count": 167,
     "metadata": {},
     "output_type": "execute_result"
    }
   ],
   "source": [
    "pd.pivot_table(credit_data, values ='LIMIT_BAL', index =['SEX'], columns =['EDUCATION'], aggfunc = np.mean) "
   ]
  },
  {
   "cell_type": "markdown",
   "metadata": {},
   "source": [
    "## Options\n",
    "pandas has an options system that lets you customize some aspects of its behaviour, display-related options being those the user is most likely to adjust.\n",
    "\n",
    "Options have a full \"dotted-style\", case-insensitive name (e.g. display.max_rows). You can get/set options directly as attributes of the top-level options attribute.\n",
    "\n",
    "Here, we will discuss one major which wille be often used."
   ]
  },
  {
   "cell_type": "markdown",
   "metadata": {},
   "source": [
    "While presenting the data, showing the data in the required format is also an important and crucial part. Sometimes, the value is so big that we want to show only desired part of this or we can say in some desired format.\n",
    "\n",
    "We will make use of pandas' display options for this."
   ]
  },
  {
   "cell_type": "code",
   "execution_count": 1,
   "metadata": {},
   "outputs": [
    {
     "name": "stdout",
     "output_type": "stream",
     "text": [
      "Given Dataframe :\n",
      "       Month       Expense\n",
      "0   January  2.152522e+07\n",
      "1  February  3.112584e+07\n",
      "2     March  2.313543e+07\n",
      "3     April  5.624526e+07\n",
      "\n",
      "Result :\n",
      "       Month     Expense\n",
      "0   January 21525220.65\n",
      "1  February 31125840.88\n",
      "2     March 23135428.77\n",
      "3     April 56245263.94\n"
     ]
    }
   ],
   "source": [
    "# Round off the column values to two decimal places\n",
    "import pandas as pd \n",
    "  \n",
    "# create the data dictionary \n",
    "data = {'Month' : ['January', 'February', 'March', 'April'], \n",
    "     'Expense': [ 21525220.653, 31125840.875, 23135428.768, 56245263.942]} \n",
    "  \n",
    "# create the dataframe \n",
    "dataframe = pd.DataFrame(data, columns = ['Month', 'Expense']) \n",
    "  \n",
    "print(\"Given Dataframe :\\n\", dataframe) \n",
    "  \n",
    "# round to two decimal places in python pandas \n",
    "pd.options.display.float_format = '{:.2f}'.format\n",
    "  \n",
    "print('\\nResult :\\n', dataframe) "
   ]
  },
  {
   "cell_type": "markdown",
   "metadata": {},
   "source": [
    "We are importing the library, creating some data, print that data and Expense is in scientific notation.\n",
    "\n",
    "We have used pandas options display float_format ,method to round to two decimal places."
   ]
  }
 ],
 "metadata": {
  "kernelspec": {
   "display_name": "Python 3",
   "language": "python",
   "name": "python3"
  },
  "language_info": {
   "codemirror_mode": {
    "name": "ipython",
    "version": 3
   },
   "file_extension": ".py",
   "mimetype": "text/x-python",
   "name": "python",
   "nbconvert_exporter": "python",
   "pygments_lexer": "ipython3",
   "version": "3.6.1"
  }
 },
 "nbformat": 4,
 "nbformat_minor": 2
}
