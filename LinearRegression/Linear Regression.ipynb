{
 "cells": [
  {
   "cell_type": "markdown",
   "metadata": {},
   "source": [
    "# Regression analysis\n",
    "Regression models are used to predict target variables on a continuous scale, which makes them attractive for addressing many questions in science as well as applications in industry, such as understanding relationships between variables, evaluating trends, or making forecasts. One example would be predicting the sales of a company in future months.\n"
   ]
  },
  {
   "cell_type": "markdown",
   "metadata": {},
   "source": [
    "Regression analysis is a set of statistical methods used for the estimation of relationships between a dependent variable and one or more independent variables. It can be utilized to assess the strength of the relationship between variables and for modeling the future relationship between them.\n",
    "\n",
    "Regression analysis is an important tool for modelling and analyzing data. Here, we fit a curve / line to the data points, in such a manner that the differences between the distances of data points from the curve or line is minimized."
   ]
  },
  {
   "cell_type": "markdown",
   "metadata": {},
   "source": [
    "#### Benefits of using regression analysis:\n",
    "* It indicates the significant relationships between dependent variable and independent variable.\n",
    "* It indicates the strength of impact of multiple independent variables on a dependent variable."
   ]
  },
  {
   "cell_type": "markdown",
   "metadata": {},
   "source": [
    "Regression analysis also allows us to compare the effects of variables measured on different scales, such as the effect of price changes and the number of promotional activities. These benefits help market researchers / data analysts / data scientists to eliminate and evaluate the best set of variables to be used for building predictive models.\n"
   ]
  },
  {
   "cell_type": "markdown",
   "metadata": {},
   "source": [
    "One of the primary goals of any scientist is to find patterns in data and build models to describe, predict, and extract insight from those patterns. The most fundamental of these patterns is a linear relationship between two variables. \n"
   ]
  },
  {
   "cell_type": "markdown",
   "metadata": {},
   "source": [
    "# Simple linear regression\n",
    "Simple linear regression is a model that assesses the relationship between a dependent variable and one independent variable. The simple linear model is expressed using the following equation:\n",
    "\n",
    "Y = a + bX + ϵ\n",
    "\n",
    "\n",
    "Where:\n",
    "\n",
    "Y – dependent variable\n",
    "\n",
    "X – independent (explanatory) variable\n",
    "\n",
    "a – intercept\n",
    "\n",
    "b – slope\n",
    "\n",
    "ϵ – residual (error)"
   ]
  },
  {
   "cell_type": "markdown",
   "metadata": {},
   "source": [
    "Simple linear regression is useful for finding relationship between two continuous variables. One is predictor or independent variable and other is response or dependent variable. \n",
    "\n",
    "It looks for statistical relationship but not deterministic relationship. Relationship between two variables is said to be deterministic if one variable can be accurately expressed by the other. \n",
    "\n",
    "For example, using temperature in degree Celsius it is possible to accurately predict Fahrenheit. Statistical relationship is not accurate in determining relationship between two variables. For example, relationship between height and weight.\n",
    "\n",
    "The core idea is to obtain a line that best fits the data. The best fit line is the one for which total prediction error (all data points) are as small as possible.\n",
    "\n"
   ]
  },
  {
   "cell_type": "markdown",
   "metadata": {},
   "source": [
    "# Multiple linear regression\n",
    "Multiple linear regression analysis is essentially similar to the simple linear model, with the exception that multiple independent variables are used in the model. The mathematical representation of multiple linear regression is:\n",
    "\n",
    "Y = a + b$X_{1}$ + c$X_{2}$ + d$X_{3}$ + ϵ\n",
    "\n",
    "Where:\n",
    "\n",
    "Y – dependent variable\n",
    "\n",
    "$X_{1}$, $X_{2}$, $X_{3}$ – independent (explanatory) variables\n",
    "\n",
    "a – intercept\n",
    "\n",
    "b, c, d – slopes\n",
    "\n",
    "ϵ – residual (error)"
   ]
  },
  {
   "cell_type": "markdown",
   "metadata": {},
   "source": [
    "# Real-time example : \n",
    "We have a dataset which contains information about customers' quarterly balance, their demographic and Wallet transaction. \n",
    "\n",
    "Goal is to design a model that can predict Wallet transaction if given the customers' information. This will help the bank to identify the customers with high Customer LifeTime Value(CLTV) which in turn will help the bank to engage these customers to build long lasting relations.\n",
    "\n",
    "A linear regression line can be obtained from the given data which will give minimum error. This linear equation is then used for any new data. That is, if we give information of any customer as an input, our model should predict their Wallet transaction with minimum error."
   ]
  },
  {
   "cell_type": "markdown",
   "metadata": {},
   "source": [
    "Let's take a look at some data, ask some questions about that data, and then use linear regression to answer those questions!"
   ]
  },
  {
   "cell_type": "code",
   "execution_count": 2,
   "metadata": {},
   "outputs": [
    {
     "name": "stdout",
     "output_type": "stream",
     "text": [
      "  Cust_id  Qtr1_Bal  Qtr2_Bal  Qtr3_Bal  Qtr4_Bal  Perc_inc_q4_q1  Wallet_trx  \\\n",
      "0  C10803        47        36       NaN     50000            26.7       22334   \n",
      "1  C10020        34        10       NaN     40000             0.8       24699   \n",
      "2   C6176        11         9       NaN     30000             5.3       57263   \n",
      "3   C8563        10        15       NaN      9000             3.7       18888   \n",
      "4  C10031        41        42      23.0      4000             1.8        2042   \n",
      "\n",
      "    Age  Gender   Area  \n",
      "0  57.0  Female   East  \n",
      "1  52.0  Female  South  \n",
      "2  51.0  Female  North  \n",
      "3  48.0    Male   West  \n",
      "4  53.0  Female   East  \n"
     ]
    }
   ],
   "source": [
    "# read data into a DataFrame\n",
    "import pandas as pd\n",
    "import numpy as np\n",
    "\n",
    "data = pd.read_csv('Data/Linr_Reg_data_v02.csv')\n",
    "print(data.head())"
   ]
  },
  {
   "cell_type": "markdown",
   "metadata": {},
   "source": [
    "We can see that the data contains different columns like Customer ID, Quarterly balances, Percentage increase from Q1 to Q4, Demographics of Customer, etc.\n",
    "\n",
    "Do you Customer ID has any relevance in model building ?\n",
    "Answer is big NO. Since Customer IDs is a unique identifier in the data, it can be removed from the data for our analysis and model buiding process. \n",
    "\n",
    "But can we do something else with Customer ID ?\n",
    "Answer is big YES. We can use it as our index column which will not have any impact in model building and will be there in the dataset as well.\n",
    "\n",
    "Let's see how we can do that."
   ]
  },
  {
   "cell_type": "code",
   "execution_count": 3,
   "metadata": {},
   "outputs": [
    {
     "name": "stdout",
     "output_type": "stream",
     "text": [
      "         Qtr1_Bal  Qtr2_Bal  Qtr3_Bal  Qtr4_Bal  Perc_inc_q4_q1  Wallet_trx  \\\n",
      "Cust_id                                                                       \n",
      "C10803         47        36       NaN     50000            26.7       22334   \n",
      "C10020         34        10       NaN     40000             0.8       24699   \n",
      "C6176          11         9       NaN     30000             5.3       57263   \n",
      "C8563          10        15       NaN      9000             3.7       18888   \n",
      "C10031         41        42      23.0      4000             1.8        2042   \n",
      "\n",
      "          Age  Gender   Area  \n",
      "Cust_id                       \n",
      "C10803   57.0  Female   East  \n",
      "C10020   52.0  Female  South  \n",
      "C6176    51.0  Female  North  \n",
      "C8563    48.0    Male   West  \n",
      "C10031   53.0  Female   East  \n"
     ]
    }
   ],
   "source": [
    "# read data into a DataFrame\n",
    "data = pd.read_csv('Data/Linr_Reg_data_v02.csv', index_col=0)\n",
    "print(data.head())"
   ]
  },
  {
   "cell_type": "markdown",
   "metadata": {},
   "source": [
    "In the above read_csv function call, we added an argument \"index_col\" and initialize it with value 0.\n",
    "\n",
    "\"index_col\" is used to define if any column needs to be taken as index. Initializing it with 0 means Column 0, i.e., the first column(Cust_ID) should be considered as index column of the dataframe."
   ]
  },
  {
   "cell_type": "code",
   "execution_count": 4,
   "metadata": {},
   "outputs": [
    {
     "name": "stdout",
     "output_type": "stream",
     "text": [
      "(10100, 9)\n"
     ]
    }
   ],
   "source": [
    "print(data.shape)"
   ]
  },
  {
   "cell_type": "markdown",
   "metadata": {},
   "source": [
    "There are 10100 customers information in the data with 9 variables. Out of these 9, 1 is target variable and rest 8 are predictor variables."
   ]
  },
  {
   "cell_type": "markdown",
   "metadata": {},
   "source": [
    "What are the **features**?\n",
    "- Qtrx_Bal: Quarterly Balance (in thousands of Rupees)\n",
    "- Perc_inc_q4_q1: Percentage increase in Quarter 4 from Quarter 1\n",
    "- Age: Age of the customer\n",
    "- Gender: Gender of the customer\n",
    "- Area: Area of the customer\n",
    "\n",
    "What is the **response**?\n",
    "- Wallet_trx: Wallet transaction (in thousands of Rupees)"
   ]
  },
  {
   "cell_type": "markdown",
   "metadata": {},
   "source": [
    "## Questions About the Customers Data\n",
    "\n",
    "Let's say you work for the company that creates digital wallet for their customers. The company might ask you the following: On the basis of this data, how should we spend our advertising money in the future?\n",
    "\n",
    "This general question might lead you to more specific questions:\n",
    "1. Is there a relationship between quarterly balance and Wallet transaction?\n",
    "2. How strong is that relationship?\n",
    "3. Which gender types contribute to more wallet transaction?\n",
    "4. What is the effect of each quarter balance to Wallet transaction?\n",
    "5. Given all these variables, can Wallet transaction be predicted?\n",
    "\n",
    "We will explore these questions below!"
   ]
  },
  {
   "cell_type": "markdown",
   "metadata": {},
   "source": [
    "# Data Cleaning\n",
    "Before moving forward, we need to make sure that the data is cleaned. \n",
    "\n",
    "Cleaning data is just something you’re going to have to deal with in analytics. It’s not great work, but it has to be done so you can produce great work."
   ]
  },
  {
   "cell_type": "markdown",
   "metadata": {},
   "source": [
    "# Check Missing Value \n",
    "Lets quickly check which column has how many missing values ?"
   ]
  },
  {
   "cell_type": "code",
   "execution_count": 5,
   "metadata": {},
   "outputs": [
    {
     "name": "stdout",
     "output_type": "stream",
     "text": [
      "Qtr1_Bal             0\n",
      "Qtr2_Bal             0\n",
      "Qtr3_Bal             6\n",
      "Qtr4_Bal             0\n",
      "Perc_inc_q4_q1       0\n",
      "Wallet_trx           0\n",
      "Age               1781\n",
      "Gender               0\n",
      "Area                26\n",
      "dtype: int64\n"
     ]
    }
   ],
   "source": [
    "print(data.isnull().sum())"
   ]
  },
  {
   "cell_type": "markdown",
   "metadata": {},
   "source": [
    "We can see there are missing values in Qtr3_Bal, Age and Area.\n"
   ]
  },
  {
   "cell_type": "markdown",
   "metadata": {},
   "source": [
    "There are multiple ways to treat the missing values. Some of them are : \n",
    "\n",
    "* Remove rows with missing values\n",
    "* Remove columns with missing values\n",
    "* Replace the missing values with a unique constant value or mean(or mode in case of categorical), etc"
   ]
  },
  {
   "cell_type": "markdown",
   "metadata": {},
   "source": [
    "There are few ML algorithms which support missing values which we will discuss later."
   ]
  },
  {
   "cell_type": "code",
   "execution_count": 6,
   "metadata": {},
   "outputs": [
    {
     "name": "stdout",
     "output_type": "stream",
     "text": [
      "(10100, 9)\n"
     ]
    }
   ],
   "source": [
    "print(data.shape)"
   ]
  },
  {
   "cell_type": "markdown",
   "metadata": {},
   "source": [
    "Out of 10100, 26 rows have Area missing. \n",
    "\n",
    "Let's replace the missing values of Area by mode value of Area since Area is a categorical variable."
   ]
  },
  {
   "cell_type": "code",
   "execution_count": 7,
   "metadata": {},
   "outputs": [
    {
     "name": "stdout",
     "output_type": "stream",
     "text": [
      "0    West\n",
      "dtype: object\n"
     ]
    }
   ],
   "source": [
    "# Find the mean value of Age\n",
    "print(data.Area.mode())"
   ]
  },
  {
   "cell_type": "code",
   "execution_count": 8,
   "metadata": {
    "collapsed": true
   },
   "outputs": [],
   "source": [
    "# Replace the missing values in Area by mode value of Area\n",
    "data.loc[data['Area'].isnull(),'Area'] = 'West'"
   ]
  },
  {
   "cell_type": "code",
   "execution_count": 9,
   "metadata": {},
   "outputs": [
    {
     "name": "stdout",
     "output_type": "stream",
     "text": [
      "0    West\n",
      "dtype: object\n"
     ]
    }
   ],
   "source": [
    "print(data['Area'].mode())"
   ]
  },
  {
   "cell_type": "markdown",
   "metadata": {},
   "source": [
    "Mode remains same as we have replaced missing values with mode only."
   ]
  },
  {
   "cell_type": "code",
   "execution_count": 10,
   "metadata": {},
   "outputs": [
    {
     "name": "stdout",
     "output_type": "stream",
     "text": [
      "0\n"
     ]
    }
   ],
   "source": [
    "print(data['Area'].isnull().sum())"
   ]
  },
  {
   "cell_type": "markdown",
   "metadata": {},
   "source": [
    "Now, no missing value in Area."
   ]
  },
  {
   "cell_type": "markdown",
   "metadata": {},
   "source": [
    "Let's do the missing value treatment for Qtr3_Bal variable. Since the number of missing values(6 out of 10100) in Qtr3_Bal is too small, we can replace missing values with its mean."
   ]
  },
  {
   "cell_type": "code",
   "execution_count": 11,
   "metadata": {},
   "outputs": [
    {
     "name": "stdout",
     "output_type": "stream",
     "text": [
      "22.451654448187043\n"
     ]
    }
   ],
   "source": [
    "# Find the mean value of Qtr3_Bal\n",
    "print(data.Qtr3_Bal.mean())"
   ]
  },
  {
   "cell_type": "code",
   "execution_count": 12,
   "metadata": {
    "collapsed": true
   },
   "outputs": [],
   "source": [
    "# Replace the missing values in Area by mode value of Qtr3_Bal\n",
    "data.loc[data['Qtr3_Bal'].isnull(),'Qtr3_Bal'] = 22.452"
   ]
  },
  {
   "cell_type": "code",
   "execution_count": 13,
   "metadata": {},
   "outputs": [
    {
     "name": "stdout",
     "output_type": "stream",
     "text": [
      "22.451654653465347\n"
     ]
    }
   ],
   "source": [
    "print(data['Qtr3_Bal'].mean())"
   ]
  },
  {
   "cell_type": "markdown",
   "metadata": {},
   "source": [
    "Mean remains same as we have replaced missing values with mean only."
   ]
  },
  {
   "cell_type": "code",
   "execution_count": 14,
   "metadata": {},
   "outputs": [
    {
     "name": "stdout",
     "output_type": "stream",
     "text": [
      "0\n"
     ]
    }
   ],
   "source": [
    "print(data['Qtr3_Bal'].isnull().sum())"
   ]
  },
  {
   "cell_type": "markdown",
   "metadata": {},
   "source": [
    "Now, no missing value in Qtr3_Bal."
   ]
  },
  {
   "cell_type": "markdown",
   "metadata": {},
   "source": [
    "Let's do the missing value treatment for Age variable."
   ]
  },
  {
   "cell_type": "code",
   "execution_count": 15,
   "metadata": {},
   "outputs": [
    {
     "name": "stdout",
     "output_type": "stream",
     "text": [
      "0.17633663366336633\n"
     ]
    }
   ],
   "source": [
    "print(1781/10100)"
   ]
  },
  {
   "cell_type": "markdown",
   "metadata": {},
   "source": [
    "Almost 18% missing values. Since we have a lot of missing values here, we can drop this column."
   ]
  },
  {
   "cell_type": "code",
   "execution_count": 16,
   "metadata": {},
   "outputs": [
    {
     "name": "stdout",
     "output_type": "stream",
     "text": [
      "(10100, 8)\n",
      "Qtr1_Bal          0\n",
      "Qtr2_Bal          0\n",
      "Qtr3_Bal          0\n",
      "Qtr4_Bal          0\n",
      "Perc_inc_q4_q1    0\n",
      "Wallet_trx        0\n",
      "Gender            0\n",
      "Area              0\n",
      "dtype: int64\n"
     ]
    }
   ],
   "source": [
    "data = data.drop('Age',axis=1)\n",
    "print(data.shape)\n",
    "print(data.isnull().sum())"
   ]
  },
  {
   "cell_type": "markdown",
   "metadata": {},
   "source": [
    "# Outlier Treatment\n",
    "In statistics, an outlier is an observation point that is distant from other observations.\n",
    "\n",
    "1. Find the Outliers - \n",
    "    * Boxplot\n",
    "    * Percentiles\n",
    "2. Remove the Outliers\n",
    "    * Replace with 75th percentile value\n",
    "    * Replace with 90th percentile value\n",
    "    * Replace with 95th percentile value"
   ]
  },
  {
   "cell_type": "markdown",
   "metadata": {},
   "source": [
    "For visualization, we will make use of another python library named as **MATPLOTLIB**."
   ]
  },
  {
   "cell_type": "markdown",
   "metadata": {},
   "source": [
    "# Matplotlib\n",
    "To make necessary statistical inferences, it becomes necessary to visualize your data and **Matplotlib** is one such solution for the Python users. \n",
    "\n",
    "It is a very powerful plotting library useful for those working with Python and NumPy. The most used module of Matplotib is Pyplot which provides an interface like MATLAB but instead, it uses Python and it is open source."
   ]
  },
  {
   "cell_type": "code",
   "execution_count": 17,
   "metadata": {
    "collapsed": true
   },
   "outputs": [],
   "source": [
    "import matplotlib.pyplot as plt\n",
    "# this allows plots to appear directly in the notebook\n",
    "%matplotlib inline"
   ]
  },
  {
   "cell_type": "markdown",
   "metadata": {},
   "source": [
    "### Lets see above code line by line\n",
    "1. Step 1 : Import matplotlib's pyplot module with the alias **plt**.\n",
    "\n",
    "2. Step 2 : To show each plot within the jupyter notebook, we need to use this line of code (%matplotlib inline)"
   ]
  },
  {
   "cell_type": "markdown",
   "metadata": {},
   "source": [
    "# Boxplot\n",
    "In descriptive statistics, a box plot is a method for graphically depicting groups of numerical data through their quartiles. Box plots may also have lines extending vertically from the boxes (whiskers) indicating variability outside the upper and lower quartiles, hence the terms box-and-whisker plot and box-and-whisker diagram. Outliers may be plotted as individual points."
   ]
  },
  {
   "cell_type": "code",
   "execution_count": 18,
   "metadata": {},
   "outputs": [
    {
     "data": {
      "image/png": "[encoded data removed]",
      "text/plain": [
       "<Figure size 432x288 with 1 Axes>"
      ]
     },
     "metadata": {},
     "output_type": "display_data"
    }
   ],
   "source": [
    "box_data = np.array(data[['Qtr1_Bal','Qtr2_Bal','Qtr3_Bal']])\n",
    "plt.boxplot(box_data,labels=['Qtr1_Bal','Qtr2_Bal','Qtr3_Bal'])\n",
    "plt.show()"
   ]
  },
  {
   "cell_type": "markdown",
   "metadata": {},
   "source": [
    "There seems to be no outliers in these variables. Lets inspect other variables too."
   ]
  },
  {
   "cell_type": "code",
   "execution_count": 19,
   "metadata": {},
   "outputs": [
    {
     "data": {
      "image/png": "[encoded data removed]",
      "text/plain": [
       "<Figure size 432x288 with 1 Axes>"
      ]
     },
     "metadata": {},
     "output_type": "display_data"
    }
   ],
   "source": [
    "box_data = np.array(data[['Qtr4_Bal']])\n",
    "plt.boxplot(box_data,labels=['Qtr4_Bal'])\n",
    "plt.show()"
   ]
  },
  {
   "cell_type": "markdown",
   "metadata": {},
   "source": [
    "Qtr4_Bal seems to have outliers. We will inspect more with the help of percentiles."
   ]
  },
  {
   "cell_type": "code",
   "execution_count": 20,
   "metadata": {},
   "outputs": [
    {
     "data": {
      "text/plain": [
       "array([   75.,    79.,    83.,    87.,    91.,    93.,    95., 50000.])"
      ]
     },
     "execution_count": 20,
     "metadata": {},
     "output_type": "execute_result"
    }
   ],
   "source": [
    "np.percentile(data['Qtr4_Bal'],[50,60,70,80,90,95,99,100])"
   ]
  },
  {
   "cell_type": "markdown",
   "metadata": {},
   "source": [
    "Checking the percentiles, we can see that 99th percentile value is just 95, but maximum value is 50000. \n",
    "\n",
    "Thus for this, we can remove the outliers using 99th percentile.\n",
    "\n",
    "Let's first check how many outliers are there."
   ]
  },
  {
   "cell_type": "code",
   "execution_count": 21,
   "metadata": {},
   "outputs": [
    {
     "name": "stdout",
     "output_type": "stream",
     "text": [
      "Cust_id\n",
      "C10803    50000\n",
      "C10020    40000\n",
      "C6176     30000\n",
      "C8563      9000\n",
      "C10031     4000\n",
      "Name: Qtr4_Bal, dtype: int64\n"
     ]
    }
   ],
   "source": [
    "print(data.loc[data.Qtr4_Bal>95,'Qtr4_Bal'])"
   ]
  },
  {
   "cell_type": "markdown",
   "metadata": {},
   "source": [
    "We can see there are 5 values in Qtr4_Bal which are very high. \n",
    "\n",
    "We can either remove these rows or replace these values with the mean value."
   ]
  },
  {
   "cell_type": "code",
   "execution_count": 22,
   "metadata": {},
   "outputs": [
    {
     "name": "stdout",
     "output_type": "stream",
     "text": [
      "Shape of the Data before removing outliers :  (10100, 8)\n",
      "Shape of the Data after removing outliers :  (10095, 8)\n"
     ]
    }
   ],
   "source": [
    "# Remove these rows\n",
    "print(\"Shape of the Data before removing outliers : \",data.shape)\n",
    "data = data[data['Qtr4_Bal']<=95]\n",
    "print(\"Shape of the Data after removing outliers : \",data.shape)"
   ]
  },
  {
   "cell_type": "markdown",
   "metadata": {},
   "source": [
    "We have removed those rows here."
   ]
  },
  {
   "cell_type": "code",
   "execution_count": 23,
   "metadata": {},
   "outputs": [
    {
     "data": {
      "image/png": "[encoded data removed]",
      "text/plain": [
       "<Figure size 432x288 with 1 Axes>"
      ]
     },
     "metadata": {},
     "output_type": "display_data"
    }
   ],
   "source": [
    "box_data = np.array(data[['Perc_inc_q4_q1']])\n",
    "plt.boxplot(box_data,labels=['Perc_inc_q4_q1'])\n",
    "plt.show()"
   ]
  },
  {
   "cell_type": "markdown",
   "metadata": {},
   "source": [
    "Perc_inc_q4_q1 seems to have outliers. We will inspect more with the help of percentiles."
   ]
  },
  {
   "cell_type": "code",
   "execution_count": 24,
   "metadata": {
    "collapsed": true
   },
   "outputs": [],
   "source": [
    "# Use the below code to suppress numbers to print in exponential form\n",
    "np.set_printoptions(suppress=True)"
   ]
  },
  {
   "cell_type": "code",
   "execution_count": 25,
   "metadata": {},
   "outputs": [
    {
     "data": {
      "text/plain": [
       "array([   1.9,    2.7,    3.8,    6.1,   12.3,   22.8,   72. , 2726.3])"
      ]
     },
     "execution_count": 25,
     "metadata": {},
     "output_type": "execute_result"
    }
   ],
   "source": [
    "np.percentile(data['Perc_inc_q4_q1'],[50,60,70,80,90,95,99,100])"
   ]
  },
  {
   "cell_type": "markdown",
   "metadata": {},
   "source": [
    "Checking the percentiles, we can see that 99th percentile value is just 72, but maximum value is 2726.3. \n",
    "\n",
    "Thus for this, we can remove the outliers using 99th percentile.\n",
    "\n",
    "Let's first check how many outliers are there."
   ]
  },
  {
   "cell_type": "code",
   "execution_count": 26,
   "metadata": {},
   "outputs": [
    {
     "name": "stdout",
     "output_type": "stream",
     "text": [
      "Cust_id\n",
      "C6937    1062.8\n",
      "C6987    1175.5\n",
      "C7336    2726.3\n",
      "C7383     899.0\n",
      "C8502      96.6\n",
      "          ...  \n",
      "C7006      83.0\n",
      "C9057      77.0\n",
      "C9177      84.0\n",
      "C5912      91.0\n",
      "C7480      89.0\n",
      "Name: Perc_inc_q4_q1, Length: 94, dtype: float64\n"
     ]
    }
   ],
   "source": [
    "print(data.loc[data.Perc_inc_q4_q1>72,'Perc_inc_q4_q1'])"
   ]
  },
  {
   "cell_type": "markdown",
   "metadata": {},
   "source": [
    "We can see there are 94 values in Perc_inc_q4_q1 which are greater than 99th percentile value but all do not seem to be Outliers.\n",
    "\n",
    "Outliers seem to be the rows where value is greater than 97.\n",
    "\n",
    "We can either remove these rows or replace these values with the mean value."
   ]
  },
  {
   "cell_type": "code",
   "execution_count": 27,
   "metadata": {},
   "outputs": [
    {
     "name": "stdout",
     "output_type": "stream",
     "text": [
      "Shape of the Data before removing outliers :  (10095, 8)\n",
      "Shape of the Data after removing outliers :  (10091, 8)\n"
     ]
    }
   ],
   "source": [
    "# Remove these rows\n",
    "print(\"Shape of the Data before removing outliers : \",data.shape)\n",
    "data = data[data['Perc_inc_q4_q1']<97]\n",
    "print(\"Shape of the Data after removing outliers : \",data.shape)"
   ]
  },
  {
   "cell_type": "markdown",
   "metadata": {},
   "source": [
    "We have removed those rows here."
   ]
  },
  {
   "cell_type": "code",
   "execution_count": 28,
   "metadata": {},
   "outputs": [
    {
     "data": {
      "text/html": [
       "<div>\n",
       "<style scoped>\n",
       "    .dataframe tbody tr th:only-of-type {\n",
       "        vertical-align: middle;\n",
       "    }\n",
       "\n",
       "    .dataframe tbody tr th {\n",
       "        vertical-align: top;\n",
       "    }\n",
       "\n",
       "    .dataframe thead th {\n",
       "        text-align: right;\n",
       "    }\n",
       "</style>\n",
       "<table border=\"1\" class=\"dataframe\">\n",
       "  <thead>\n",
       "    <tr style=\"text-align: right;\">\n",
       "      <th></th>\n",
       "      <th>Qtr1_Bal</th>\n",
       "      <th>Qtr2_Bal</th>\n",
       "      <th>Qtr3_Bal</th>\n",
       "      <th>Qtr4_Bal</th>\n",
       "      <th>Perc_inc_q4_q1</th>\n",
       "      <th>Wallet_trx</th>\n",
       "    </tr>\n",
       "  </thead>\n",
       "  <tbody>\n",
       "    <tr>\n",
       "      <th>count</th>\n",
       "      <td>10091.000000</td>\n",
       "      <td>10091.000000</td>\n",
       "      <td>10091.000000</td>\n",
       "      <td>10091.000000</td>\n",
       "      <td>10091.000000</td>\n",
       "      <td>10091.000000</td>\n",
       "    </tr>\n",
       "    <tr>\n",
       "      <th>mean</th>\n",
       "      <td>25.531662</td>\n",
       "      <td>25.164107</td>\n",
       "      <td>22.450986</td>\n",
       "      <td>74.872560</td>\n",
       "      <td>5.565345</td>\n",
       "      <td>128.045189</td>\n",
       "    </tr>\n",
       "    <tr>\n",
       "      <th>std</th>\n",
       "      <td>14.334897</td>\n",
       "      <td>10.150152</td>\n",
       "      <td>6.484181</td>\n",
       "      <td>11.798205</td>\n",
       "      <td>11.417046</td>\n",
       "      <td>237.477642</td>\n",
       "    </tr>\n",
       "    <tr>\n",
       "      <th>min</th>\n",
       "      <td>1.000000</td>\n",
       "      <td>8.000000</td>\n",
       "      <td>10.000000</td>\n",
       "      <td>55.000000</td>\n",
       "      <td>0.100000</td>\n",
       "      <td>15.000000</td>\n",
       "    </tr>\n",
       "    <tr>\n",
       "      <th>25%</th>\n",
       "      <td>13.000000</td>\n",
       "      <td>16.000000</td>\n",
       "      <td>18.000000</td>\n",
       "      <td>65.000000</td>\n",
       "      <td>1.000000</td>\n",
       "      <td>33.000000</td>\n",
       "    </tr>\n",
       "    <tr>\n",
       "      <th>50%</th>\n",
       "      <td>26.000000</td>\n",
       "      <td>25.000000</td>\n",
       "      <td>22.000000</td>\n",
       "      <td>75.000000</td>\n",
       "      <td>1.900000</td>\n",
       "      <td>53.000000</td>\n",
       "    </tr>\n",
       "    <tr>\n",
       "      <th>75%</th>\n",
       "      <td>38.000000</td>\n",
       "      <td>34.000000</td>\n",
       "      <td>27.000000</td>\n",
       "      <td>85.000000</td>\n",
       "      <td>4.700000</td>\n",
       "      <td>108.000000</td>\n",
       "    </tr>\n",
       "    <tr>\n",
       "      <th>max</th>\n",
       "      <td>50.000000</td>\n",
       "      <td>42.000000</td>\n",
       "      <td>40.000000</td>\n",
       "      <td>95.000000</td>\n",
       "      <td>96.600000</td>\n",
       "      <td>1980.000000</td>\n",
       "    </tr>\n",
       "  </tbody>\n",
       "</table>\n",
       "</div>"
      ],
      "text/plain": [
       "           Qtr1_Bal      Qtr2_Bal      Qtr3_Bal      Qtr4_Bal  Perc_inc_q4_q1  \\\n",
       "count  10091.000000  10091.000000  10091.000000  10091.000000    10091.000000   \n",
       "mean      25.531662     25.164107     22.450986     74.872560        5.565345   \n",
       "std       14.334897     10.150152      6.484181     11.798205       11.417046   \n",
       "min        1.000000      8.000000     10.000000     55.000000        0.100000   \n",
       "25%       13.000000     16.000000     18.000000     65.000000        1.000000   \n",
       "50%       26.000000     25.000000     22.000000     75.000000        1.900000   \n",
       "75%       38.000000     34.000000     27.000000     85.000000        4.700000   \n",
       "max       50.000000     42.000000     40.000000     95.000000       96.600000   \n",
       "\n",
       "         Wallet_trx  \n",
       "count  10091.000000  \n",
       "mean     128.045189  \n",
       "std      237.477642  \n",
       "min       15.000000  \n",
       "25%       33.000000  \n",
       "50%       53.000000  \n",
       "75%      108.000000  \n",
       "max     1980.000000  "
      ]
     },
     "execution_count": 28,
     "metadata": {},
     "output_type": "execute_result"
    }
   ],
   "source": [
    "data.describe()"
   ]
  },
  {
   "cell_type": "code",
   "execution_count": 29,
   "metadata": {},
   "outputs": [
    {
     "name": "stdout",
     "output_type": "stream",
     "text": [
      "         Qtr1_Bal  Qtr2_Bal  Qtr3_Bal  Qtr4_Bal  Perc_inc_q4_q1  Wallet_trx  \\\n",
      "Cust_id                                                                       \n",
      "C10201          2        31      39.0        73             4.1         753   \n",
      "C11061          3        16      17.0        69             9.0         470   \n",
      "C1231           9        15      18.0        88             8.8         193   \n",
      "C1513          14        31      28.0        57             3.1          76   \n",
      "C1627          22        38      23.0        91             3.1          79   \n",
      "\n",
      "         Gender   Area  \n",
      "Cust_id                 \n",
      "C10201   Female  North  \n",
      "C11061   Female   West  \n",
      "C1231      Male   West  \n",
      "C1513    Female   West  \n",
      "C1627    Female   West  \n"
     ]
    }
   ],
   "source": [
    "print(data.head())"
   ]
  },
  {
   "cell_type": "code",
   "execution_count": 30,
   "metadata": {},
   "outputs": [
    {
     "data": {
      "image/png": "[encoded data removed]",
      "text/plain": [
       "<Figure size 432x288 with 1 Axes>"
      ]
     },
     "metadata": {},
     "output_type": "display_data"
    }
   ],
   "source": [
    "box_data = np.array(data[['Qtr1_Bal','Qtr2_Bal','Qtr3_Bal','Qtr4_Bal']])\n",
    "plt.boxplot(box_data,labels=['Qtr1_Bal','Qtr2_Bal','Qtr3_Bal','Qtr4_Bal'])\n",
    "plt.show()"
   ]
  },
  {
   "cell_type": "markdown",
   "metadata": {},
   "source": [
    "Now no more outliers are there."
   ]
  },
  {
   "cell_type": "markdown",
   "metadata": {},
   "source": [
    "## Good Read : \n",
    "*Boxplot* : https://towardsdatascience.com/understanding-boxplots-5e2df7bcbd51 "
   ]
  },
  {
   "cell_type": "markdown",
   "metadata": {},
   "source": [
    "# Categorical Variables treatment\n",
    "Scikit-learn needs all variables to be numeric. Hence categorical/string variables need to be converted into numeric.\n",
    "This can be done using pandas' get_dummies() function."
   ]
  },
  {
   "cell_type": "code",
   "execution_count": 31,
   "metadata": {},
   "outputs": [
    {
     "name": "stdout",
     "output_type": "stream",
     "text": [
      "         Female  Male\n",
      "Cust_id              \n",
      "C10201        1     0\n",
      "C11061        1     0\n",
      "C1231         0     1\n",
      "C1513         1     0\n",
      "C1627         1     0\n",
      "...         ...   ...\n",
      "C9766         0     1\n",
      "C9852         0     1\n",
      "C9884         1     0\n",
      "C9930         0     1\n",
      "C9957         0     1\n",
      "\n",
      "[10091 rows x 2 columns]\n"
     ]
    }
   ],
   "source": [
    "print(pd.get_dummies(data['Gender']))"
   ]
  },
  {
   "cell_type": "markdown",
   "metadata": {},
   "source": [
    "As we can see the Gender variable is now converted into two variables : Male and Female"
   ]
  },
  {
   "cell_type": "markdown",
   "metadata": {},
   "source": [
    "Append this data into original data and remove Gender from it."
   ]
  },
  {
   "cell_type": "code",
   "execution_count": 32,
   "metadata": {
    "collapsed": true
   },
   "outputs": [],
   "source": [
    "data = pd.concat([data,pd.get_dummies(data.Gender)],axis=1)\n",
    "data = data.drop('Gender',axis=1)"
   ]
  },
  {
   "cell_type": "markdown",
   "metadata": {},
   "source": [
    "In above code, axis=1 tells that computation needs to be done on column for each row.\n",
    "\n",
    "1. In the first line where concatenation is done, concatenation is needed to be done for each row.\n",
    "\n",
    "2. In the second line where a variable needs to be dropped, 'Gender' column is needed to be done for each row."
   ]
  },
  {
   "cell_type": "markdown",
   "metadata": {},
   "source": [
    "#### Axis\n",
    "It specifies the axis along which the computations are to be done. \n",
    "\n",
    "By default axis=0, which means along the rows, and axis=1 means along the columns. "
   ]
  },
  {
   "cell_type": "markdown",
   "metadata": {},
   "source": [
    "What makes more sense to say it this way:\n",
    "* Axis 0 will act on all the ROWS in each COLUMN\n",
    "* Axis 1 will act on all the COLUMNS in each ROW\n",
    "\n",
    "So a mean on axis 0 will be the mean of all the rows in each column, and a mean on axis 1 will be a mean of all the columns in each row."
   ]
  },
  {
   "cell_type": "markdown",
   "metadata": {},
   "source": [
    "<img src = \"Images/axis.jpg\">"
   ]
  },
  {
   "cell_type": "code",
   "execution_count": 33,
   "metadata": {},
   "outputs": [
    {
     "name": "stdout",
     "output_type": "stream",
     "text": [
      "         Qtr1_Bal  Qtr2_Bal  Qtr3_Bal  Qtr4_Bal  Perc_inc_q4_q1  Wallet_trx  \\\n",
      "Cust_id                                                                       \n",
      "C10201          2        31      39.0        73             4.1         753   \n",
      "C11061          3        16      17.0        69             9.0         470   \n",
      "C1231           9        15      18.0        88             8.8         193   \n",
      "C1513          14        31      28.0        57             3.1          76   \n",
      "C1627          22        38      23.0        91             3.1          79   \n",
      "\n",
      "          Area  Female  Male  \n",
      "Cust_id                       \n",
      "C10201   North       1     0  \n",
      "C11061    West       1     0  \n",
      "C1231     West       0     1  \n",
      "C1513     West       1     0  \n",
      "C1627     West       1     0  \n"
     ]
    }
   ],
   "source": [
    "print(data.head())"
   ]
  },
  {
   "cell_type": "code",
   "execution_count": 34,
   "metadata": {},
   "outputs": [
    {
     "name": "stdout",
     "output_type": "stream",
     "text": [
      "(10091, 9)\n"
     ]
    }
   ],
   "source": [
    "print(data.shape)"
   ]
  },
  {
   "cell_type": "markdown",
   "metadata": {},
   "source": [
    "Repeat the same process for Area variable also."
   ]
  },
  {
   "cell_type": "code",
   "execution_count": 35,
   "metadata": {
    "collapsed": true
   },
   "outputs": [],
   "source": [
    "data = pd.concat([data,pd.get_dummies(data.Area)],axis=1)\n",
    "data = data.drop('Area',axis=1)"
   ]
  },
  {
   "cell_type": "code",
   "execution_count": 36,
   "metadata": {},
   "outputs": [
    {
     "name": "stdout",
     "output_type": "stream",
     "text": [
      "(10091, 12)\n"
     ]
    }
   ],
   "source": [
    "print(data.shape)"
   ]
  },
  {
   "cell_type": "code",
   "execution_count": 37,
   "metadata": {},
   "outputs": [
    {
     "name": "stdout",
     "output_type": "stream",
     "text": [
      "         Qtr1_Bal  Qtr2_Bal  Qtr3_Bal  Qtr4_Bal  Perc_inc_q4_q1  Wallet_trx  \\\n",
      "Cust_id                                                                       \n",
      "C10201          2        31      39.0        73             4.1         753   \n",
      "C11061          3        16      17.0        69             9.0         470   \n",
      "C1231           9        15      18.0        88             8.8         193   \n",
      "C1513          14        31      28.0        57             3.1          76   \n",
      "C1627          22        38      23.0        91             3.1          79   \n",
      "\n",
      "         Female  Male  East  North  South  West  \n",
      "Cust_id                                          \n",
      "C10201        1     0     0      1      0     0  \n",
      "C11061        1     0     0      0      0     1  \n",
      "C1231         0     1     0      0      0     1  \n",
      "C1513         1     0     0      0      0     1  \n",
      "C1627         1     0     0      0      0     1  \n"
     ]
    }
   ],
   "source": [
    "print(data.head())"
   ]
  },
  {
   "cell_type": "markdown",
   "metadata": {},
   "source": [
    "# Correlation\n",
    "It is important to discover and quantify the degree to which variables in your dataset are dependent upon each other. This knowledge can help you better prepare your data to meet the expectations of machine learning algorithms whose performance will degrade with the presence of these interdependencies.\n",
    "\n",
    "A correlation could be positive, meaning both variables move in the same direction, or negative, meaning that when one variable’s value increases, the other variables’ values decrease. Correlation can also be neural or zero, meaning that the variables are unrelated."
   ]
  },
  {
   "cell_type": "markdown",
   "metadata": {},
   "source": [
    "### Correlation matrix \n",
    "Correlation matrix is a matrix in which i-j position defines the correlation between the ith and jth parameter of the given dataset."
   ]
  },
  {
   "cell_type": "markdown",
   "metadata": {},
   "source": [
    "Correlation matrix can be found by using corr() on any pandas dataframe. \n",
    "\n",
    "Lets calculate the correlation matrix."
   ]
  },
  {
   "cell_type": "code",
   "execution_count": 38,
   "metadata": {},
   "outputs": [
    {
     "name": "stdout",
     "output_type": "stream",
     "text": [
      "                Qtr1_Bal  Qtr2_Bal  Qtr3_Bal  Qtr4_Bal  Perc_inc_q4_q1\n",
      "Qtr1_Bal        1.000000  0.001456 -0.003548 -0.009190       -0.564647\n",
      "Qtr2_Bal        0.001456  1.000000  0.000491 -0.010554       -0.007553\n",
      "Qtr3_Bal       -0.003548  0.000491  1.000000  0.003883       -0.005122\n",
      "Qtr4_Bal       -0.009190 -0.010554  0.003883  1.000000        0.095494\n",
      "Perc_inc_q4_q1 -0.564647 -0.007553 -0.005122  0.095494        1.000000\n"
     ]
    }
   ],
   "source": [
    "feature_data = data[['Qtr1_Bal','Qtr2_Bal','Qtr3_Bal','Qtr4_Bal','Perc_inc_q4_q1']]\n",
    "corr_matrix = feature_data.corr()\n",
    "print(corr_matrix)"
   ]
  },
  {
   "cell_type": "markdown",
   "metadata": {},
   "source": [
    "### Visualizing Correlation Matrix\n",
    "The correlation matrix shown above is very boring to study. What if we could visualize it using some plot.\n",
    "\n",
    "Heatmaps are there to rescue."
   ]
  },
  {
   "cell_type": "markdown",
   "metadata": {},
   "source": [
    "# Heatmap\n",
    "A heatmap is a two-dimensional graphical representation of data where the individual values that are contained in a matrix are represented as colors. "
   ]
  },
  {
   "cell_type": "markdown",
   "metadata": {},
   "source": [
    "Lets see how we can plot a heatmap for our correlation matrix."
   ]
  },
  {
   "cell_type": "code",
   "execution_count": 39,
   "metadata": {},
   "outputs": [
    {
     "data": {
      "image/png": "[encoded data removed]",
      "text/plain": [
       "<Figure size 720x720 with 2 Axes>"
      ]
     },
     "metadata": {},
     "output_type": "display_data"
    }
   ],
   "source": [
    "fig = plt.figure(figsize=(10,10))\n",
    "ax = fig.add_subplot(111)\n",
    "cax = ax.matshow(corr_matrix, vmin=-1, vmax=1)\n",
    "fig.colorbar(cax)\n",
    "ticks = np.arange(0,5,1)\n",
    "ax.set_xticks(ticks)\n",
    "ax.set_yticks(ticks)\n",
    "ax.set_xticklabels(corr_matrix.columns)\n",
    "ax.set_yticklabels(corr_matrix.columns)\n",
    "plt.show()"
   ]
  },
  {
   "cell_type": "markdown",
   "metadata": {},
   "source": [
    "## Lets see the code line by line.\n",
    "\n",
    "Step 1 : Initialize a figure variable with a figure object with figsize = 10,10. This is done so that figure related attributes can be changed by using **figure**.\n",
    "\n",
    "Step 2 : Similarly, initialize an ax variable by adding a subplot to the figure variable. This is done so that axis related attributes can be changed by using **ax**.\n",
    "\n",
    "Step 3 : Now, create a plot. For this we are using matshow(). This will plot the values of a 2D matrix as color-coded image. The matrix will be shown the way it would be printed, with the first row at the top. Row and column numbering is zero-based.\n",
    "\n",
    "Step 4 : Next line of code is used to add a colorbar to the plot; which we can see in the  right side(a vertical bar).\n",
    "\n",
    "Step 5 : Now, we need to set the number of ticks, i.e., number of axis label values in the plot.\n",
    "\n",
    "Step 6 : We are setting number of x-axis ticks.\n",
    "\n",
    "Step 7 : We are setting number of y-axis ticks.\n",
    "\n",
    "Step 8 : We are setting values of x-axis ticks as column names of correlation matrix.\n",
    "\n",
    "Step 9 : We are setting values of y-axis ticks as column names of correlation matrix.\n",
    "\n",
    "Step 10 : SHOW THE PLOT."
   ]
  },
  {
   "cell_type": "markdown",
   "metadata": {},
   "source": [
    "We can see that Qtr1_Bal and Perc_inc_q4_q1 are negatively correlated. But this correlation value is only -0.56."
   ]
  },
  {
   "cell_type": "markdown",
   "metadata": {},
   "source": [
    "# Linearity between Predictors and Target variables\n",
    "Let's plot the predictor variables with respect to target variable and see the relation between them."
   ]
  },
  {
   "cell_type": "code",
   "execution_count": 40,
   "metadata": {},
   "outputs": [
    {
     "data": {
      "image/png": "[encoded data removed]",
      "text/plain": [
       "<Figure size 1440x360 with 5 Axes>"
      ]
     },
     "metadata": {},
     "output_type": "display_data"
    }
   ],
   "source": [
    "fig = plt.figure(figsize=(20,5))\n",
    "axes = fig.subplots(ncols=5)\n",
    "for i, xvar in enumerate(['Qtr1_Bal', 'Qtr2_Bal', 'Qtr3_Bal','Qtr4_Bal','Perc_inc_q4_q1']):\n",
    "    axes[i].scatter(data['Wallet_trx'],data[xvar])\n",
    "plt.show()"
   ]
  },
  {
   "cell_type": "markdown",
   "metadata": {},
   "source": [
    "### Lets see the code line by line\n",
    "\n",
    "Step 1 : Initialize a fig variable with a figure object with figsize = 20,5. This is done so that figure related attributes can be changed by using figure.\n",
    "\n",
    "Step 2 : Similarly, initialize an axes variable by adding a subplot to the figure variable. This is done so that axes related attributes can be changed by using axes. Here we want to plot 4 subplots in same plot. Hence, we use ncols value equal to 4.\n",
    "\n",
    "Step 3 : Now, we run a for loop to plot each predictor variable with target variable. So, we iterate over the list of predictor variables using enumerate function.\n",
    "\n",
    "Step 4 : Now, we keep plotting a scatter plot for each iteration between Wallet_trx and predictor variable.\n",
    "\n",
    "Step 5 : SHOW THE PLOTS"
   ]
  },
  {
   "cell_type": "markdown",
   "metadata": {},
   "source": [
    "Here, Qtr1_Bal seems to have non-linear relationship with Wallet_transaction.\n",
    "\n",
    "Also, Qtr4_Bal and Perc_inc_q4_q1 have a linear relationship with Wallet_transaction."
   ]
  },
  {
   "cell_type": "markdown",
   "metadata": {},
   "source": [
    "## Estimating (\"Learning\") Model Coefficients\n",
    "\n",
    "Generally speaking, coefficients are estimated using the **least squares criterion**, which means we are to find the line (mathematically) which minimizes the **sum of squared residuals** (or \"sum of squared errors\"):"
   ]
  },
  {
   "cell_type": "markdown",
   "metadata": {},
   "source": [
    "<img src=\"Images/08_estimating_coefficients.png\">"
   ]
  },
  {
   "cell_type": "markdown",
   "metadata": {},
   "source": [
    "What elements are present in the diagram?\n",
    "- The black dots are the **observed values** of x and y.\n",
    "- The blue line is our **least squares line**.\n",
    "- The red lines are the **residuals**, which are the distances between the observed values and the least squares line.\n",
    "\n",
    "How do the model coefficients relate to the least squares line?\n",
    "- $\\beta_0$ is the **intercept** (the value of $y$ when $x$=0)\n",
    "- $\\beta_1$ is the **slope** (the change in $y$ divided by change in $x$)\n",
    "\n",
    "Here is a graphical depiction of those calculations:"
   ]
  },
  {
   "cell_type": "markdown",
   "metadata": {},
   "source": [
    "<img src=\"Images/08_slope_intercept.png\">"
   ]
  },
  {
   "cell_type": "markdown",
   "metadata": {},
   "source": [
    "### The mathematics behind the Least Squares Method."
   ]
  },
  {
   "cell_type": "markdown",
   "metadata": {},
   "source": [
    "Take a quick look at the plot we created. Now consider each point, and know that they each have a coordinate in the form (X,Y). Now draw an imaginary line between each point and our current \"best-fit\" line. We'll call the distanace between each point and our current best-fit line, D. To get a quick image of what we're currently trying to visualize, take a look at the picture below:\n",
    "\n",
    "<img src=\"http://upload.wikimedia.org/wikipedia/commons/thumb/b/b0/Linear_least_squares_example2.svg/220px-Linear_least_squares_example2.svg.png\">"
   ]
  },
  {
   "cell_type": "markdown",
   "metadata": {},
   "source": [
    "Now as before, we're labeling each green line as having a distance D, and each red point as having a coordinate of (X,Y). Then we can define our best fit line as the line having the property were:\n",
    "$$ D_{1}^2 + D_{2}^2 + D_{3}^2 + D_{4}^2 + ....+ D_{N}^2$$"
   ]
  },
  {
   "cell_type": "markdown",
   "metadata": {},
   "source": [
    "So how do we find this line? The least-square line approximating the set of points:\n",
    "\n",
    "$$ (X,Y)_{1},(X,Y)_{2},(X,Y)_{3},(X,Y)_{4},(X,Y)_{5}, $$\n",
    "\n",
    "has the equation:\n",
    "$$ Y = a_{0} +a_{1}X $$\n",
    "this is basically just a rewritten form of the standard equation for a line:\n",
    "$$Y=mx+b$$"
   ]
  },
  {
   "cell_type": "markdown",
   "metadata": {},
   "source": [
    "We can solve for these constants a0 and a1 by simultaneously solving these equations:\n",
    "$$ \\Sigma Y = a_{0}N + a_{1}\\Sigma X $$\n",
    "$$ \\Sigma XY = a_{0}\\Sigma X + a_{1}\\Sigma X^2 $$"
   ]
  },
  {
   "cell_type": "markdown",
   "metadata": {},
   "source": [
    "These are called the normal equations for the least squares line. There are further steps that can be taken in rearranging these equations  to solve for y, but we'll let scikit-learn do the rest of the heavy lifting here."
   ]
  },
  {
   "cell_type": "markdown",
   "metadata": {},
   "source": [
    "# Scikit-Learn\n",
    "Scikit-learn is an open source Python library that implements a range of machine learning, pre-processing, cross-validation and visualization algorithms using a unified interface. \n",
    "\n",
    "Scikit-learn provides algorithms for machine learning tasks including classification, regression, dimensionality reduction, and clustering. It also provides modules for extracting features, processing data, and evaluating models.\n"
   ]
  },
  {
   "cell_type": "markdown",
   "metadata": {},
   "source": [
    "Let's create a simple linear regression model using scikit-learn. \n",
    "Do not forget to import LinearRegression from scikit-learn."
   ]
  },
  {
   "cell_type": "code",
   "execution_count": 41,
   "metadata": {
    "collapsed": true
   },
   "outputs": [],
   "source": [
    "from sklearn.linear_model import LinearRegression"
   ]
  },
  {
   "cell_type": "code",
   "execution_count": 42,
   "metadata": {},
   "outputs": [
    {
     "name": "stdout",
     "output_type": "stream",
     "text": [
      "-16.67406889110731\n",
      "1.9328744501344919\n"
     ]
    }
   ],
   "source": [
    "# create X and y\n",
    "feature_cols = ['Qtr4_Bal']\n",
    "X = data[feature_cols]\n",
    "y = data.Wallet_trx\n",
    "\n",
    "# follow the usual sklearn pattern: import, instantiate, fit\n",
    "lm = LinearRegression()\n",
    "lm.fit(X, y)\n",
    "\n",
    "# print intercept and coefficients\n",
    "print(lm.intercept_)\n",
    "print(lm.coef_[0])"
   ]
  },
  {
   "cell_type": "markdown",
   "metadata": {},
   "source": [
    "Lets see above code line by line.\n",
    "\n",
    "Step 1 : We define a variable \"featue_cols\" and initialize it to a list with name of a dataset variable \"Qtr4_Bal\".\n",
    "We have done this to make our code more robust so that next time we just add more column names to this list and run the code without changing anything else.\n",
    "\n",
    "Step 2 : We define X with data containins only these feature_cols defined in Step 1.\n",
    "\n",
    "Step 3 : We define y with target values from the data.\n",
    "\n",
    "Step 4 : This is an object instantiater of LinearRegression type with the name **lm**. You will see this type of syntax a lot in building models using scikit learn library.\n",
    "\n",
    "Step 5 : After instantiating LinearRegression, we will feed the data to lm object to train the model on this data.\n",
    "\n",
    "Step 6 : Once the model is built, we will check what are the values of intercept and coefficients using lm object."
   ]
  },
  {
   "cell_type": "markdown",
   "metadata": {},
   "source": [
    "#### Evaluation of Model\n",
    "How can we evaluate if our trained model is a good model ?\n",
    "Answer : We can check its accuracy.\n",
    "\n",
    "Checking the accuracy on the same data on which you have trained is not a good way to judge the model.\n",
    "Answer : We can use more data to check the accuracy on it.\n",
    "\n",
    "What if you dont have more data ?\n",
    "Answer : We could split the data into two parts : Train and Test. Then we use the train data to build the model and test the accuracy on test data."
   ]
  },
  {
   "cell_type": "markdown",
   "metadata": {},
   "source": [
    "# Train and Test\n",
    "\n",
    "When you’re working on a model and want to train it, you obviously have a dataset. \n",
    "\n",
    "But after training, we have to test the model on some test dataset. For this, you’ll a dataset which is different from the training set you used earlier. \n",
    "\n",
    "But it might not always be possible to have so much data during the development phase.\n",
    "\n",
    "\n",
    "In such cases, the obviously solution is to split the dataset you have into two sets, one for training and the other for testing; and you do this before you start training your model.\n",
    "\n",
    "But the question is, how do you split the data? \n",
    "\n",
    "You can’t possibly manually split the dataset into two. And you also have to make sure you split the data in a random manner. \n",
    "\n",
    "To help us with this task, the SciKit library provides a tool, called the **Model Selection** library. There’s a class in the library which is named **train_test_split**. \n",
    "\n",
    "Using this we can easily split the dataset into the training and the testing datasets in various proportions.\n",
    "\n",
    "Lets see how we can achieve this."
   ]
  },
  {
   "cell_type": "code",
   "execution_count": 43,
   "metadata": {
    "collapsed": true
   },
   "outputs": [],
   "source": [
    "from sklearn.model_selection import train_test_split"
   ]
  },
  {
   "cell_type": "code",
   "execution_count": 44,
   "metadata": {},
   "outputs": [
    {
     "name": "stdout",
     "output_type": "stream",
     "text": [
      "-1.8748733094083718\n",
      "1.7360292497202088\n"
     ]
    }
   ],
   "source": [
    "# create X and y\n",
    "feature_cols = ['Qtr4_Bal']\n",
    "X = data[feature_cols]\n",
    "y = data.Wallet_trx\n",
    "\n",
    "# Split the data into train and test\n",
    "X_train, X_test, y_train, y_test = train_test_split(X,y,test_size=0.25,random_state=123)\n",
    "\n",
    "# follow the usual sklearn pattern: import, instantiate, fit\n",
    "lm = LinearRegression()\n",
    "lm.fit(X_train, y_train)\n",
    "\n",
    "# print intercept and coefficients\n",
    "print(lm.intercept_)\n",
    "print(lm.coef_[0])"
   ]
  },
  {
   "cell_type": "markdown",
   "metadata": {},
   "source": [
    "In above code, we have split the data X and y into two parts \n",
    "* train data : X_train and y_train\n",
    "* test data : X_test and y_test\n"
   ]
  },
  {
   "cell_type": "markdown",
   "metadata": {},
   "source": [
    "The splitting is done using train_test_split function which takes following arguments :\n",
    "* X : dataset containing predictor variables\n",
    "* y : dataset containing target variables\n",
    "* test_size : ratio of data to be present in test dataset\n",
    "* random_state : seed for the random number generator during the split. If you don’t pass anything, the RandomState instance used by np.random will be used instead. And every time, we run this code, it will take a random number and provide different rows into train and test."
   ]
  },
  {
   "cell_type": "markdown",
   "metadata": {},
   "source": [
    "Check the size of train and test data."
   ]
  },
  {
   "cell_type": "code",
   "execution_count": 45,
   "metadata": {},
   "outputs": [
    {
     "name": "stdout",
     "output_type": "stream",
     "text": [
      "(7568, 1)\n",
      "(2523, 1)\n"
     ]
    }
   ],
   "source": [
    "print(X_train.shape)\n",
    "print(X_test.shape)"
   ]
  },
  {
   "cell_type": "markdown",
   "metadata": {},
   "source": [
    "Since we have used test_size = 0.25, we are getting 25% rows into test data and 75% data into train data."
   ]
  },
  {
   "cell_type": "markdown",
   "metadata": {},
   "source": [
    "#### Write a code to split the data into train and test with train having 80% of the data and random state as 25."
   ]
  },
  {
   "cell_type": "markdown",
   "metadata": {},
   "source": [
    "## Interpreting Model Coefficients\n",
    "\n",
    "How do we interpret the Qtr4_Bal coefficient ($\\beta_1$)?\n",
    "- A \"unit\" increase in Qtr4_Bal is **associated with** a Rs 1.74 increase in Wallet_trx.\n",
    "- Or more clearly: An additional Rs 1,000 in Qtr4_Bal is **associated with** a increase in Wallet_trx of Rs 1736.\n",
    "\n",
    "Note that if an increase in Qtr4_Bal spending was associated with a **decrease** in Wallet_trx, $\\beta_1$ would be **negative**."
   ]
  },
  {
   "cell_type": "markdown",
   "metadata": {},
   "source": [
    "## Evaluating the model \n",
    "Evaluate the model accuracy by checking the RMSE value on train and test data.\n",
    "\n",
    "<img src = \"Images/rmse-1.jpg\">"
   ]
  },
  {
   "cell_type": "markdown",
   "metadata": {},
   "source": [
    "We will use predict() to predict the output given the input values. \n",
    "\n",
    "Below is the code to predict the output and calculate the rmse."
   ]
  },
  {
   "cell_type": "code",
   "execution_count": 46,
   "metadata": {},
   "outputs": [
    {
     "name": "stdout",
     "output_type": "stream",
     "text": [
      "235.30219457534724\n"
     ]
    }
   ],
   "source": [
    "y_train_pred = lm.predict(X_train)\n",
    "train_rmse = np.sqrt(np.mean(np.square(y_train-y_train_pred)))\n",
    "print(train_rmse)"
   ]
  },
  {
   "cell_type": "markdown",
   "metadata": {},
   "source": [
    "Thus we can see train rmse is 235.30.\n",
    "\n",
    "Lets check the RMSE for test data."
   ]
  },
  {
   "cell_type": "code",
   "execution_count": 47,
   "metadata": {},
   "outputs": [
    {
     "name": "stdout",
     "output_type": "stream",
     "text": [
      "239.58342841481132\n"
     ]
    }
   ],
   "source": [
    "y_test_pred = lm.predict(X_test)\n",
    "test_rmse = np.sqrt(np.mean(np.square(y_test-y_test_pred)))\n",
    "print(test_rmse)"
   ]
  },
  {
   "cell_type": "markdown",
   "metadata": {},
   "source": [
    "Test RMSE is 239.58 which is very near to Train RMSE. Thus model is not overfitting."
   ]
  },
  {
   "cell_type": "markdown",
   "metadata": {},
   "source": [
    "Do we have to write a code to calculate rmse or any other metric every time we need to evaluate the model ?\n",
    "\n",
    "You can use the scikit learn library's **metrics** module to ease your coding."
   ]
  },
  {
   "cell_type": "markdown",
   "metadata": {},
   "source": [
    "# sklearn metrics\n",
    "As you train your predictive model, you will want to assess how good it is. Interestingly, there are many different ways of evaluating the performance. \n",
    "\n",
    "Scikit-learn contains many built-in functions for analyzing the performance of models. You can write your own functions from scratch or you can use sklearn's metrics module to do the same.\n",
    "\n",
    "Below are few of the metrics provided by sklearn metrics used in evaluating a regression model:\n",
    "* Mean Absolute Error\n",
    "* Mean Squared Error\n",
    "* R^2"
   ]
  },
  {
   "cell_type": "markdown",
   "metadata": {},
   "source": [
    "Before start calculating different metrics, do not forget to import the functions"
   ]
  },
  {
   "cell_type": "code",
   "execution_count": 48,
   "metadata": {
    "collapsed": true
   },
   "outputs": [],
   "source": [
    "from sklearn.metrics import mean_absolute_error, mean_squared_error, r2_score"
   ]
  },
  {
   "cell_type": "code",
   "execution_count": 49,
   "metadata": {},
   "outputs": [
    {
     "name": "stdout",
     "output_type": "stream",
     "text": [
      "Train RMSE :  235.3021945753468\n",
      "Test RMSE :  239.58342841481127\n"
     ]
    }
   ],
   "source": [
    "train_rmse = np.sqrt(mean_squared_error(y_train,y_train_pred))\n",
    "test_rmse = np.sqrt(mean_squared_error(y_test,y_test_pred))\n",
    "print(\"Train RMSE : \",train_rmse)\n",
    "print(\"Test RMSE : \",test_rmse)"
   ]
  },
  {
   "cell_type": "markdown",
   "metadata": {},
   "source": [
    "We can see rmse values using library function is exactly same by calculating from scratch.\n",
    "\n",
    "We will use other metric functions later in the session."
   ]
  },
  {
   "cell_type": "markdown",
   "metadata": {},
   "source": [
    "Now, What after building the model ? How will you use this model for the new data ?\n",
    "\n",
    "Lets see below."
   ]
  },
  {
   "cell_type": "markdown",
   "metadata": {},
   "source": [
    "## Using the Model for Prediction\n",
    "\n",
    "Let's say that there was a new customer where the Qtr4_Bal was **10**. What would we predict for the Wallet_trx for that customer?\n",
    "\n",
    "$$y = \\beta_0 + \\beta_1x$$\n",
    "$$y = -1.87487330941 + 1.73602924972 \\times 10$$"
   ]
  },
  {
   "cell_type": "code",
   "execution_count": 50,
   "metadata": {},
   "outputs": [
    {
     "data": {
      "text/plain": [
       "15.485419187789999"
      ]
     },
     "execution_count": 50,
     "metadata": {},
     "output_type": "execute_result"
    }
   ],
   "source": [
    "# manually calculate the prediction\n",
    "-1.87487330941 + 1.73602924972*10"
   ]
  },
  {
   "cell_type": "markdown",
   "metadata": {},
   "source": [
    "Thus, we would predict Wallet_trn of **Rs 15.49** for that customer."
   ]
  },
  {
   "cell_type": "code",
   "execution_count": 51,
   "metadata": {},
   "outputs": [
    {
     "data": {
      "text/html": [
       "<div>\n",
       "<style scoped>\n",
       "    .dataframe tbody tr th:only-of-type {\n",
       "        vertical-align: middle;\n",
       "    }\n",
       "\n",
       "    .dataframe tbody tr th {\n",
       "        vertical-align: top;\n",
       "    }\n",
       "\n",
       "    .dataframe thead th {\n",
       "        text-align: right;\n",
       "    }\n",
       "</style>\n",
       "<table border=\"1\" class=\"dataframe\">\n",
       "  <thead>\n",
       "    <tr style=\"text-align: right;\">\n",
       "      <th></th>\n",
       "      <th>Qtr4_Bal</th>\n",
       "    </tr>\n",
       "  </thead>\n",
       "  <tbody>\n",
       "    <tr>\n",
       "      <th>0</th>\n",
       "      <td>10</td>\n",
       "    </tr>\n",
       "  </tbody>\n",
       "</table>\n",
       "</div>"
      ],
      "text/plain": [
       "   Qtr4_Bal\n",
       "0        10"
      ]
     },
     "execution_count": 51,
     "metadata": {},
     "output_type": "execute_result"
    }
   ],
   "source": [
    "# you have to create a DataFrame since the Statsmodels formula interface expects it\n",
    "X_new = pd.DataFrame({'Qtr4_Bal': [10]})\n",
    "X_new.head()"
   ]
  },
  {
   "cell_type": "markdown",
   "metadata": {},
   "source": [
    "Here, we are creating a dataset using pandas DataFrame function which is taking a dictionary.\n",
    "\n",
    "Keys of the dictionary will be the names of the columns and Values will be the values of the columns."
   ]
  },
  {
   "cell_type": "code",
   "execution_count": 52,
   "metadata": {},
   "outputs": [
    {
     "data": {
      "text/plain": [
       "array([15.48541919])"
      ]
     },
     "execution_count": 52,
     "metadata": {},
     "output_type": "execute_result"
    }
   ],
   "source": [
    "# use the model to make predictions on a new value\n",
    "lm.predict(X_new)"
   ]
  },
  {
   "cell_type": "markdown",
   "metadata": {},
   "source": [
    "## Plotting the Least Squares Line\n",
    "\n",
    "Let's make predictions for the **smallest and largest observed values of x**, and then use the predicted values to plot the least squares line:"
   ]
  },
  {
   "cell_type": "code",
   "execution_count": 53,
   "metadata": {},
   "outputs": [
    {
     "data": {
      "text/html": [
       "<div>\n",
       "<style scoped>\n",
       "    .dataframe tbody tr th:only-of-type {\n",
       "        vertical-align: middle;\n",
       "    }\n",
       "\n",
       "    .dataframe tbody tr th {\n",
       "        vertical-align: top;\n",
       "    }\n",
       "\n",
       "    .dataframe thead th {\n",
       "        text-align: right;\n",
       "    }\n",
       "</style>\n",
       "<table border=\"1\" class=\"dataframe\">\n",
       "  <thead>\n",
       "    <tr style=\"text-align: right;\">\n",
       "      <th></th>\n",
       "      <th>Qtr4_Bal</th>\n",
       "    </tr>\n",
       "  </thead>\n",
       "  <tbody>\n",
       "    <tr>\n",
       "      <th>0</th>\n",
       "      <td>55</td>\n",
       "    </tr>\n",
       "    <tr>\n",
       "      <th>1</th>\n",
       "      <td>95</td>\n",
       "    </tr>\n",
       "  </tbody>\n",
       "</table>\n",
       "</div>"
      ],
      "text/plain": [
       "   Qtr4_Bal\n",
       "0        55\n",
       "1        95"
      ]
     },
     "execution_count": 53,
     "metadata": {},
     "output_type": "execute_result"
    }
   ],
   "source": [
    "# create a DataFrame with the minimum and maximum values of Qtr1_Bal\n",
    "X_new = pd.DataFrame({'Qtr4_Bal': [data.Qtr4_Bal.min(), data.Qtr4_Bal.max()]})\n",
    "X_new.head()"
   ]
  },
  {
   "cell_type": "markdown",
   "metadata": {},
   "source": [
    "Now, we are creating a dataset by taking minimum value of Qtr4_Bal and maximum value of Qtr4_Bal to check what will be the values of Wallet Transaction based on min and max values of Qtr4_Bal."
   ]
  },
  {
   "cell_type": "code",
   "execution_count": 54,
   "metadata": {},
   "outputs": [
    {
     "name": "stdout",
     "output_type": "stream",
     "text": [
      "[ 93.60673543 163.04790541]\n"
     ]
    }
   ],
   "source": [
    "# make predictions for those x values and store them\n",
    "preds = lm.predict(X_new)\n",
    "print(preds)"
   ]
  },
  {
   "cell_type": "markdown",
   "metadata": {},
   "source": [
    "Lets plot the dataset and the linear regression model to visualize."
   ]
  },
  {
   "cell_type": "code",
   "execution_count": 55,
   "metadata": {},
   "outputs": [
    {
     "data": {
      "text/plain": [
       "[<matplotlib.lines.Line2D at 0x255e93f0e80>]"
      ]
     },
     "execution_count": 55,
     "metadata": {},
     "output_type": "execute_result"
    },
    {
     "data": {
      "image/png": "[encoded data removed]",
      "text/plain": [
       "<Figure size 432x288 with 1 Axes>"
      ]
     },
     "metadata": {},
     "output_type": "display_data"
    }
   ],
   "source": [
    "# first, plot the observed data\n",
    "data.plot(kind='scatter', x='Qtr4_Bal', y='Wallet_trx')\n",
    "\n",
    "# then, plot the least squares line\n",
    "plt.plot(X_new, preds, c='red', linewidth=2)"
   ]
  },
  {
   "cell_type": "markdown",
   "metadata": {},
   "source": [
    "#### Lets see the above code line by line :\n",
    "Step 1 : Use the dataset which you need to plot. Provide the type of the plot('scatter'), x-variable and y-variable.\n",
    "\n",
    "Step 2 : Use the plt's plot function to plot a line with first variable as x-variable and second variable as y-variable, with Red color by using 'c' argument and linewidth equal to 2.\n"
   ]
  },
  {
   "cell_type": "markdown",
   "metadata": {},
   "source": [
    "## Confidence in our Model\n",
    "\n",
    "**Question:** Is linear regression a high bias/low variance model, or a low bias/high variance model?\n",
    "\n",
    "**Answer:** High bias/low variance. Under repeated sampling, the line will stay roughly in the same place (low variance), but the average of those models won't do a great job capturing the true relationship (high bias). Note that low variance is a useful characteristic when you don't have a lot of training data!\n",
    "\n",
    "A closely related concept is **confidence intervals**. Statsmodels calculates 95% confidence intervals for our model coefficients, which are interpreted as follows: If the population from which this sample was drawn was **sampled 100 times**, approximately **95 of those confidence intervals** would contain the \"true\" coefficient."
   ]
  },
  {
   "cell_type": "markdown",
   "metadata": {},
   "source": [
    "If running below code gives you some error, high chances are it is because you did not have the required library installed.\n",
    "\n",
    "Please install it using                  **pip install statsmodels**"
   ]
  },
  {
   "cell_type": "markdown",
   "metadata": {},
   "source": [
    "If you still get some error, try running below code :\n",
    "\n",
    "                                            pip uninstall statsmodels -y\n",
    "\n",
    "                                    pip install statsmodels==0.10.0rc2 --pre --user\n",
    "\n",
    "And then restart the kernel of your jupyter notebook"
   ]
  },
  {
   "cell_type": "code",
   "execution_count": 56,
   "metadata": {},
   "outputs": [
    {
     "data": {
      "text/html": [
       "<div>\n",
       "<style scoped>\n",
       "    .dataframe tbody tr th:only-of-type {\n",
       "        vertical-align: middle;\n",
       "    }\n",
       "\n",
       "    .dataframe tbody tr th {\n",
       "        vertical-align: top;\n",
       "    }\n",
       "\n",
       "    .dataframe thead th {\n",
       "        text-align: right;\n",
       "    }\n",
       "</style>\n",
       "<table border=\"1\" class=\"dataframe\">\n",
       "  <thead>\n",
       "    <tr style=\"text-align: right;\">\n",
       "      <th></th>\n",
       "      <th>0</th>\n",
       "      <th>1</th>\n",
       "    </tr>\n",
       "  </thead>\n",
       "  <tbody>\n",
       "    <tr>\n",
       "      <th>Intercept</th>\n",
       "      <td>-46.310060</td>\n",
       "      <td>12.961922</td>\n",
       "    </tr>\n",
       "    <tr>\n",
       "      <th>Qtr4_Bal</th>\n",
       "      <td>1.541879</td>\n",
       "      <td>2.323870</td>\n",
       "    </tr>\n",
       "  </tbody>\n",
       "</table>\n",
       "</div>"
      ],
      "text/plain": [
       "                   0          1\n",
       "Intercept -46.310060  12.961922\n",
       "Qtr4_Bal    1.541879   2.323870"
      ]
     },
     "execution_count": 56,
     "metadata": {},
     "output_type": "execute_result"
    }
   ],
   "source": [
    "import statsmodels.formula.api as smf\n",
    "lm = smf.ols(formula='Wallet_trx ~ Qtr4_Bal', data=data).fit()\n",
    "lm.conf_int()"
   ]
  },
  {
   "cell_type": "markdown",
   "metadata": {},
   "source": [
    "Keep in mind that we only have a **single sample of data**, and not the **entire population of data**. The \"true\" coefficient is either within this interval or it isn't, but there's no way to actually know. We estimate the coefficient with the data we do have, and we show uncertainty about that estimate by giving a range that the coefficient is **probably** within.\n",
    "\n",
    "Note that using 95% confidence intervals is just a convention. You can create 90% confidence intervals (which will be more narrow), 99% confidence intervals (which will be wider), or whatever intervals you like."
   ]
  },
  {
   "cell_type": "markdown",
   "metadata": {},
   "source": [
    "## Hypothesis Testing and p-values\n",
    "\n",
    "Closely related to confidence intervals is **hypothesis testing**. Generally speaking, you start with a **null hypothesis** and an **alternative hypothesis** (that is opposite the null). Then, you check whether the data supports **rejecting the null hypothesis** or **failing to reject the null hypothesis**.\n",
    "\n",
    "(Note that \"failing to reject\" the null is not the same as \"accepting\" the null hypothesis. The alternative hypothesis may indeed be true, except that you just don't have enough data to show that.)\n",
    "\n",
    "As it relates to model coefficients, here is the conventional hypothesis test:\n",
    "- **null hypothesis:** There is no relationship between TV ads and Sales (and thus $\\beta_1$ equals zero)\n",
    "- **alternative hypothesis:** There is a relationship between TV ads and Sales (and thus $\\beta_1$ is not equal to zero)\n",
    "\n",
    "How do we test this hypothesis? Intuitively, we reject the null (and thus believe the alternative) if the 95% confidence interval **does not include zero**. Conversely, the **p-value** represents the probability that the coefficient is actually zero:"
   ]
  },
  {
   "cell_type": "code",
   "execution_count": 57,
   "metadata": {},
   "outputs": [
    {
     "data": {
      "text/plain": [
       "Intercept    2.701121e-01\n",
       "Qtr4_Bal     4.142839e-22\n",
       "dtype: float64"
      ]
     },
     "execution_count": 57,
     "metadata": {},
     "output_type": "execute_result"
    }
   ],
   "source": [
    "# print the p-values for the model coefficients\n",
    "lm.pvalues"
   ]
  },
  {
   "cell_type": "markdown",
   "metadata": {},
   "source": [
    "If the 95% confidence interval **includes zero**, the p-value for that coefficient will be **greater than 0.05**. If the 95% confidence interval **does not include zero**, the p-value will be **less than 0.05**. Thus, a p-value less than 0.05 is one way to decide whether there is likely a relationship between the feature and the response. (Again, using 0.05 as the cutoff is just a convention.)\n",
    "\n",
    "In this case, the p-value for Qtr4_Bal is far lesser than 0.05, and so we **believe** that there is a linear relationship between Qtr4_Bal and Wallet_trx.\n",
    "\n",
    "Note that we generally ignore the p-value for the intercept."
   ]
  },
  {
   "cell_type": "markdown",
   "metadata": {},
   "source": [
    "## How Well Does the Model Fit the data?\n",
    "\n",
    "The most common way to evaluate the overall fit of a linear model is by the **R-squared** value. R-squared is the **proportion of variance explained**, meaning the proportion of variance in the observed data that is explained by the model, or the reduction in error over the **null model**. (The null model just predicts the mean of the observed response, and thus it has an intercept and no slope.)\n",
    "\n",
    "R-squared is between 0 and 1, and higher is better because it means that more variance is explained by the model. Here's an example of what R-squared \"looks like\":"
   ]
  },
  {
   "cell_type": "markdown",
   "metadata": {},
   "source": [
    "<img src=\"Images/08_r_squared.png\">"
   ]
  },
  {
   "cell_type": "markdown",
   "metadata": {},
   "source": [
    "You can see that the **blue line** explains some of the variance in the data (R-squared=0.54), the **green line** explains more of the variance (R-squared=0.64), and the **red line** fits the training data even further (R-squared=0.66). (Does the red line look like it's overfitting?)\n",
    "\n",
    "Let's calculate the R-squared value for our simple linear model:"
   ]
  },
  {
   "cell_type": "code",
   "execution_count": 58,
   "metadata": {},
   "outputs": [
    {
     "data": {
      "text/plain": [
       "0.009221332527972415"
      ]
     },
     "execution_count": 58,
     "metadata": {},
     "output_type": "execute_result"
    }
   ],
   "source": [
    "# print the R-squared value for the model\n",
    "lm.rsquared"
   ]
  },
  {
   "cell_type": "markdown",
   "metadata": {},
   "source": [
    "Is that a \"good\" R-squared value? It's not. The threshold for a good R-squared value depends widely on the domain. Therefore, it's most useful as a tool for **comparing different models**."
   ]
  },
  {
   "cell_type": "markdown",
   "metadata": {},
   "source": [
    "# Multiple Linear Regression\n",
    "Now, let's create a multiple linear regression model using scikit-learn."
   ]
  },
  {
   "cell_type": "code",
   "execution_count": 59,
   "metadata": {},
   "outputs": [
    {
     "name": "stdout",
     "output_type": "stream",
     "text": [
      "10.896736136791333\n",
      "[-0.01960174 -0.01191809  0.05500497  0.02096628 20.6922973   0.93979678\n",
      " -0.93979678 -0.35432773  0.01954873  0.15458902  0.18018998]\n"
     ]
    }
   ],
   "source": [
    "# create X and y\n",
    "feature_cols = ['Qtr1_Bal', 'Qtr2_Bal', 'Qtr3_Bal','Qtr4_Bal','Perc_inc_q4_q1','Female', 'Male', 'North','South','East','West']\n",
    "X = data[feature_cols]\n",
    "y = data.Wallet_trx\n",
    "\n",
    "lm = LinearRegression()\n",
    "lm.fit(X, y)\n",
    "\n",
    "# print intercept and coefficients\n",
    "print(lm.intercept_)\n",
    "print(lm.coef_)"
   ]
  },
  {
   "cell_type": "markdown",
   "metadata": {},
   "source": [
    "Lets see above code line by line.\n",
    "\n",
    "Step 1 : We define a variable \"featue_cols\" and initialize it to a list with names of the dataset columns.\n",
    "We have done this to make our code more robust so that next time we just add/remove column names to this list and run the code without changing anything else.\n",
    "\n",
    "Step 2 : We define X with data containing these feature_cols defined in Step 1.\n",
    "\n",
    "Step 3 : We define y with target values from the data.\n",
    "\n",
    "Step 4 : This is an object instantiater of LinearRegression type with the name **lm**. You will see this type of syntax a lot in building models using scikit learn library.\n",
    "\n",
    "Step 5 : After instantiating LinearRegression, we will feed the data to lm object to train the model on this data.\n",
    "\n",
    "Step 6 : Once the model is built, we will check what are the values of intercept and coefficients using lm object."
   ]
  },
  {
   "cell_type": "markdown",
   "metadata": {},
   "source": [
    "#### Evaluation of Model\n",
    "How can we evaluate if our trained model is a good model ?\n",
    "Answer : We can check its accuracy.\n",
    "\n",
    "Checking the accuracy on the same data on which you have trained is not a good way to judge the model.\n",
    "Answer : We can use more data to check the accuracy on it.\n",
    "\n",
    "What if you dont have more data ?\n",
    "Answer : We could split the data into two parts : Train and Test. Then we use the train data to build the model and test the accuracy on test data."
   ]
  },
  {
   "cell_type": "markdown",
   "metadata": {},
   "source": [
    "# Train and Test\n",
    "\n",
    "When you’re working on a model and want to train it, you obviously have a dataset. \n",
    "\n",
    "But after training, we have to test the model on some test dataset. For this, you’ll a dataset which is different from the training set you used earlier. \n",
    "\n",
    "But it might not always be possible to have so much data during the development phase.\n",
    "\n",
    "\n",
    "In such cases, the obviously solution is to split the dataset you have into two sets, one for training and the other for testing; and you do this before you start training your model.\n",
    "\n",
    "But the question is, how do you split the data? \n",
    "\n",
    "You can’t possibly manually split the dataset into two. And you also have to make sure you split the data in a random manner. \n",
    "\n",
    "To help us with this task, the SciKit library provides a tool, called the **Model Selection** library. There’s a class in the library which is named **train_test_split**. \n",
    "\n",
    "Using this we can easily split the dataset into the training and the testing datasets in various proportions.\n",
    "\n",
    "Lets see how we can achieve this."
   ]
  },
  {
   "cell_type": "code",
   "execution_count": 60,
   "metadata": {
    "collapsed": true
   },
   "outputs": [],
   "source": [
    "from sklearn.model_selection import train_test_split"
   ]
  },
  {
   "cell_type": "code",
   "execution_count": 61,
   "metadata": {},
   "outputs": [
    {
     "name": "stdout",
     "output_type": "stream",
     "text": [
      "10.82075346560795\n",
      "-0.03799854320473492\n"
     ]
    }
   ],
   "source": [
    "# create X and y\n",
    "feature_cols = ['Qtr1_Bal','Qtr2_Bal','Qtr3_Bal','Qtr4_Bal','Perc_inc_q4_q1','Female', 'Male', 'North','South','East','West']\n",
    "X = data[feature_cols]\n",
    "y = data.Wallet_trx\n",
    "\n",
    "# Split the data into train and test\n",
    "X_train, X_test, y_train, y_test = train_test_split(X,y,test_size=0.25,random_state=123)\n",
    "\n",
    "# follow the usual sklearn pattern: import, instantiate, fit\n",
    "lm = LinearRegression()\n",
    "lm.fit(X_train, y_train)\n",
    "\n",
    "# print intercept and coefficients\n",
    "print(lm.intercept_)\n",
    "print(lm.coef_[0])"
   ]
  },
  {
   "cell_type": "markdown",
   "metadata": {},
   "source": [
    "In above code, we have split the data X and y into two parts \n",
    "* **train data** : X_train and y_train\n",
    "* **test data** : X_test and y_test\n"
   ]
  },
  {
   "cell_type": "markdown",
   "metadata": {},
   "source": [
    "The splitting is done using train_test_split function which takes following arguments :\n",
    "* **X** : dataset containing predictor variables\n",
    "* **y** : dataset containing target variables\n",
    "* **test_size** : ratio of data to be present in test dataset\n",
    "* **random_state** : seed for the random number generator during the split. If you don’t pass anything, the RandomState instance used by np.random will be used instead. And every time, we run this code, it will take a random number and provide different rows into train and test."
   ]
  },
  {
   "cell_type": "markdown",
   "metadata": {},
   "source": [
    "Check the size of train and test data."
   ]
  },
  {
   "cell_type": "code",
   "execution_count": 62,
   "metadata": {},
   "outputs": [
    {
     "name": "stdout",
     "output_type": "stream",
     "text": [
      "(7568, 11)\n",
      "(2523, 11)\n"
     ]
    }
   ],
   "source": [
    "print(X_train.shape)\n",
    "print(X_test.shape)"
   ]
  },
  {
   "cell_type": "markdown",
   "metadata": {},
   "source": [
    "Since we have used test_size = 0.25, we are getting 25% rows into test data and 75% data into train data."
   ]
  },
  {
   "cell_type": "markdown",
   "metadata": {},
   "source": [
    "#### Write a code to split the data into train and test with train having 80% of the data and random state as 25."
   ]
  },
  {
   "cell_type": "markdown",
   "metadata": {},
   "source": [
    "How do we interpret these coefficients?\n",
    "\n",
    "A lot of the information we have been reviewing piece-by-piece is available in the model summary output:"
   ]
  },
  {
   "cell_type": "code",
   "execution_count": 63,
   "metadata": {},
   "outputs": [
    {
     "data": {
      "text/html": [
       "<table class=\"simpletable\">\n",
       "<caption>OLS Regression Results</caption>\n",
       "<tr>\n",
       "  <th>Dep. Variable:</th>       <td>Wallet_trx</td>    <th>  R-squared:         </th> <td>   0.991</td> \n",
       "</tr>\n",
       "<tr>\n",
       "  <th>Model:</th>                   <td>OLS</td>       <th>  Adj. R-squared:    </th> <td>   0.991</td> \n",
       "</tr>\n",
       "<tr>\n",
       "  <th>Method:</th>             <td>Least Squares</td>  <th>  F-statistic:       </th> <td>1.280e+05</td>\n",
       "</tr>\n",
       "<tr>\n",
       "  <th>Date:</th>             <td>Wed, 02 Oct 2019</td> <th>  Prob (F-statistic):</th>  <td>  0.00</td>  \n",
       "</tr>\n",
       "<tr>\n",
       "  <th>Time:</th>                 <td>16:55:49</td>     <th>  Log-Likelihood:    </th> <td> -45565.</td> \n",
       "</tr>\n",
       "<tr>\n",
       "  <th>No. Observations:</th>      <td> 10091</td>      <th>  AIC:               </th> <td>9.115e+04</td>\n",
       "</tr>\n",
       "<tr>\n",
       "  <th>Df Residuals:</th>          <td> 10081</td>      <th>  BIC:               </th> <td>9.122e+04</td>\n",
       "</tr>\n",
       "<tr>\n",
       "  <th>Df Model:</th>              <td>     9</td>      <th>                     </th>     <td> </td>    \n",
       "</tr>\n",
       "<tr>\n",
       "  <th>Covariance Type:</th>      <td>nonrobust</td>    <th>                     </th>     <td> </td>    \n",
       "</tr>\n",
       "</table>\n",
       "<table class=\"simpletable\">\n",
       "<tr>\n",
       "         <td></td>           <th>coef</th>     <th>std err</th>      <th>t</th>      <th>P>|t|</th>  <th>[0.025</th>    <th>0.975]</th>  \n",
       "</tr>\n",
       "<tr>\n",
       "  <th>Intercept</th>      <td>    6.2267</td> <td>    1.011</td> <td>    6.156</td> <td> 0.000</td> <td>    4.244</td> <td>    8.209</td>\n",
       "</tr>\n",
       "<tr>\n",
       "  <th>Qtr1_Bal</th>       <td>   -0.0196</td> <td>    0.019</td> <td>   -1.051</td> <td> 0.293</td> <td>   -0.056</td> <td>    0.017</td>\n",
       "</tr>\n",
       "<tr>\n",
       "  <th>Qtr2_Bal</th>       <td>   -0.0119</td> <td>    0.022</td> <td>   -0.549</td> <td> 0.583</td> <td>   -0.054</td> <td>    0.031</td>\n",
       "</tr>\n",
       "<tr>\n",
       "  <th>Qtr3_Bal</th>       <td>    0.0550</td> <td>    0.034</td> <td>    1.619</td> <td> 0.106</td> <td>   -0.012</td> <td>    0.122</td>\n",
       "</tr>\n",
       "<tr>\n",
       "  <th>Qtr4_Bal</th>       <td>    0.0210</td> <td>    0.019</td> <td>    1.116</td> <td> 0.265</td> <td>   -0.016</td> <td>    0.058</td>\n",
       "</tr>\n",
       "<tr>\n",
       "  <th>Perc_inc_q4_q1</th> <td>   20.6923</td> <td>    0.024</td> <td>  879.142</td> <td> 0.000</td> <td>   20.646</td> <td>   20.738</td>\n",
       "</tr>\n",
       "<tr>\n",
       "  <th>Female</th>         <td>    4.0531</td> <td>    0.550</td> <td>    7.376</td> <td> 0.000</td> <td>    2.976</td> <td>    5.130</td>\n",
       "</tr>\n",
       "<tr>\n",
       "  <th>Male</th>           <td>    2.1736</td> <td>    0.554</td> <td>    3.924</td> <td> 0.000</td> <td>    1.088</td> <td>    3.259</td>\n",
       "</tr>\n",
       "<tr>\n",
       "  <th>North</th>          <td>    1.2023</td> <td>    0.467</td> <td>    2.572</td> <td> 0.010</td> <td>    0.286</td> <td>    2.119</td>\n",
       "</tr>\n",
       "<tr>\n",
       "  <th>South</th>          <td>    1.5762</td> <td>    0.463</td> <td>    3.405</td> <td> 0.001</td> <td>    0.669</td> <td>    2.484</td>\n",
       "</tr>\n",
       "<tr>\n",
       "  <th>East</th>           <td>    1.7113</td> <td>    0.584</td> <td>    2.929</td> <td> 0.003</td> <td>    0.566</td> <td>    2.856</td>\n",
       "</tr>\n",
       "<tr>\n",
       "  <th>West</th>           <td>    1.7369</td> <td>    0.422</td> <td>    4.111</td> <td> 0.000</td> <td>    0.909</td> <td>    2.565</td>\n",
       "</tr>\n",
       "</table>\n",
       "<table class=\"simpletable\">\n",
       "<tr>\n",
       "  <th>Omnibus:</th>       <td>35109.799</td> <th>  Durbin-Watson:     </th>    <td>   1.159</td>    \n",
       "</tr>\n",
       "<tr>\n",
       "  <th>Prob(Omnibus):</th>  <td> 0.000</td>   <th>  Jarque-Bera (JB):  </th> <td>14428142818.652</td>\n",
       "</tr>\n",
       "<tr>\n",
       "  <th>Skew:</th>           <td>-66.224</td>  <th>  Prob(JB):          </th>    <td>    0.00</td>    \n",
       "</tr>\n",
       "<tr>\n",
       "  <th>Kurtosis:</th>      <td>5859.426</td>  <th>  Cond. No.          </th>    <td>3.74e+17</td>    \n",
       "</tr>\n",
       "</table><br/><br/>Warnings:<br/>[1] Standard Errors assume that the covariance matrix of the errors is correctly specified.<br/>[2] The smallest eigenvalue is 5.44e-28. This might indicate that there are<br/>strong multicollinearity problems or that the design matrix is singular."
      ],
      "text/plain": [
       "<class 'statsmodels.iolib.summary.Summary'>\n",
       "\"\"\"\n",
       "                            OLS Regression Results                            \n",
       "==============================================================================\n",
       "Dep. Variable:             Wallet_trx   R-squared:                       0.991\n",
       "Model:                            OLS   Adj. R-squared:                  0.991\n",
       "Method:                 Least Squares   F-statistic:                 1.280e+05\n",
       "Date:                Wed, 02 Oct 2019   Prob (F-statistic):               0.00\n",
       "Time:                        16:55:49   Log-Likelihood:                -45565.\n",
       "No. Observations:               10091   AIC:                         9.115e+04\n",
       "Df Residuals:                   10081   BIC:                         9.122e+04\n",
       "Df Model:                           9                                         \n",
       "Covariance Type:            nonrobust                                         \n",
       "==================================================================================\n",
       "                     coef    std err          t      P>|t|      [0.025      0.975]\n",
       "----------------------------------------------------------------------------------\n",
       "Intercept          6.2267      1.011      6.156      0.000       4.244       8.209\n",
       "Qtr1_Bal          -0.0196      0.019     -1.051      0.293      -0.056       0.017\n",
       "Qtr2_Bal          -0.0119      0.022     -0.549      0.583      -0.054       0.031\n",
       "Qtr3_Bal           0.0550      0.034      1.619      0.106      -0.012       0.122\n",
       "Qtr4_Bal           0.0210      0.019      1.116      0.265      -0.016       0.058\n",
       "Perc_inc_q4_q1    20.6923      0.024    879.142      0.000      20.646      20.738\n",
       "Female             4.0531      0.550      7.376      0.000       2.976       5.130\n",
       "Male               2.1736      0.554      3.924      0.000       1.088       3.259\n",
       "North              1.2023      0.467      2.572      0.010       0.286       2.119\n",
       "South              1.5762      0.463      3.405      0.001       0.669       2.484\n",
       "East               1.7113      0.584      2.929      0.003       0.566       2.856\n",
       "West               1.7369      0.422      4.111      0.000       0.909       2.565\n",
       "==============================================================================\n",
       "Omnibus:                    35109.799   Durbin-Watson:                   1.159\n",
       "Prob(Omnibus):                  0.000   Jarque-Bera (JB):      14428142818.652\n",
       "Skew:                         -66.224   Prob(JB):                         0.00\n",
       "Kurtosis:                    5859.426   Cond. No.                     3.74e+17\n",
       "==============================================================================\n",
       "\n",
       "Warnings:\n",
       "[1] Standard Errors assume that the covariance matrix of the errors is correctly specified.\n",
       "[2] The smallest eigenvalue is 5.44e-28. This might indicate that there are\n",
       "strong multicollinearity problems or that the design matrix is singular.\n",
       "\"\"\""
      ]
     },
     "execution_count": 63,
     "metadata": {},
     "output_type": "execute_result"
    }
   ],
   "source": [
    "lm = smf.ols(formula='Wallet_trx ~ Qtr1_Bal + Qtr2_Bal + Qtr3_Bal + Qtr4_Bal + Perc_inc_q4_q1 + Female + Male + North + South + East + West', data=data).fit()\n",
    "lm.conf_int()\n",
    "lm.summary()"
   ]
  },
  {
   "cell_type": "markdown",
   "metadata": {},
   "source": [
    "What are a few key things we learn from this output?\n",
    "\n",
    "- All variables have significant **p-values**, except quarterly balance variables. Thus we reject the null hypothesis for all other variables (that there is no association between those features and Wallet_trx), and fail to reject the null hypothesis for quarterly balance variables.\n",
    "- Qtr1_Bal and Qtr2_Bal are **negatively associated** with Wallet_trx, whereas all other variables are **positively associated** with Wallet_trx.\n",
    "- This model has a higher **R-squared** (0.991) than the previous model, which means that this model provides a better fit to the data than a model that only includes Qtr4_Bal."
   ]
  },
  {
   "cell_type": "markdown",
   "metadata": {},
   "source": [
    "# Assumptions of Linear Regression\n",
    "Regression is a parametric approach. ‘Parametric’ means it makes assumptions about data for the purpose of analysis. Due to its parametric side, regression is restrictive in nature. It fails to deliver good results with data sets which doesn’t fulfill its assumptions. Therefore, for a successful regression analysis, it’s essential to validate these assumptions.\n"
   ]
  },
  {
   "cell_type": "markdown",
   "metadata": {},
   "source": [
    "So, how would you check (validate) if a data set follows all regression assumptions? You check it using the regression plots (explained below) along with some statistical test."
   ]
  },
  {
   "cell_type": "markdown",
   "metadata": {},
   "source": [
    "* There should be a linear and additive relationship between dependent (response) variable and independent (predictor) variable(s). A linear relationship suggests that a change in response Y due to one unit change in X¹ is constant, regardless of the value of X¹. An additive relationship suggests that the effect of X¹ on Y is independent of other variables.\n",
    "\n",
    "* There should be no correlation between the residual (error) terms. Absence of this phenomenon is known as Autocorrelation.\n",
    "\n",
    "* The independent variables should not be correlated. Absence of this phenomenon is known as multicollinearity.\n",
    "\n",
    "* The error terms must have constant variance. This phenomenon is known as homoskedasticity. The presence of non-constant variance is referred to heteroskedasticity.\n",
    "\n",
    "* The error terms must be normally distributed."
   ]
  },
  {
   "cell_type": "markdown",
   "metadata": {},
   "source": [
    "**Linear and Additive**:  If you fit a linear model to a non-linear, non-additive data set, the regression algorithm would fail to capture the trend mathematically, thus resulting in an inefficient model. Also, this will result in erroneous predictions on an unseen data set.\n",
    "\n",
    "**How to check**: Look for residual vs fitted value plots.\n",
    " "
   ]
  },
  {
   "cell_type": "code",
   "execution_count": 64,
   "metadata": {},
   "outputs": [
    {
     "data": {
      "image/png": "[encoded data removed]",
      "text/plain": [
       "<Figure size 432x180 with 1 Axes>"
      ]
     },
     "metadata": {},
     "output_type": "display_data"
    }
   ],
   "source": [
    "pred_val = lm.fittedvalues.copy()\n",
    "true_val = data['Wallet_trx'].values.copy()\n",
    "residual = true_val - pred_val\n",
    "fig, ax = plt.subplots(figsize=(6,2.5))\n",
    "_ = ax.scatter(residual, pred_val)"
   ]
  },
  {
   "cell_type": "markdown",
   "metadata": {},
   "source": [
    "**Autocorrelation**: The presence of correlation in error terms drastically reduces model’s accuracy. This usually occurs in time series models where the next instant is dependent on previous instant. If the error terms are correlated, the estimated standard errors tend to underestimate the true standard error.\n",
    "\n",
    "**How to check**: Look for Durbin – Watson (DW) statistic. It must lie between 0 and 4. If DW = 2, implies no autocorrelation, 0 < DW < 2 implies positive autocorrelation while 2 < DW < 4 indicates negative autocorrelation. Also, you can see residual vs time plot and look for the seasonal or correlated pattern in residual values."
   ]
  },
  {
   "cell_type": "markdown",
   "metadata": {},
   "source": [
    "From the OLS Regression results, we can see the value of DW.\n",
    "\n",
    "DW = 1.152 implies that Positive Autocorrelation exists."
   ]
  },
  {
   "cell_type": "markdown",
   "metadata": {},
   "source": [
    "**Multicollinearity**: This phenomenon exists when the independent variables are found to be moderately or highly correlated. In a model with correlated variables, it becomes a tough task to figure out the true relationship of a predictors with response variable. In other words, it becomes difficult to find out which variable is actually contributing to predict the response variable.\n",
    "\n",
    "**How to check**: You can use scatter plot to visualize correlation effect among variables. Also, you can also use VIF factor. VIF value <= 4 suggests no multicollinearity whereas a value of >= 10 implies serious multicollinearity. Above all, a correlation table should also solve the purpose."
   ]
  },
  {
   "cell_type": "code",
   "execution_count": 65,
   "metadata": {},
   "outputs": [
    {
     "name": "stdout",
     "output_type": "stream",
     "text": [
      "                Qtr1_Bal  Qtr2_Bal  Qtr3_Bal  Qtr4_Bal  Perc_inc_q4_q1  \\\n",
      "Qtr1_Bal        1.000000  0.001456 -0.003548 -0.009190       -0.564647   \n",
      "Qtr2_Bal        0.001456  1.000000  0.000491 -0.010554       -0.007553   \n",
      "Qtr3_Bal       -0.003548  0.000491  1.000000  0.003883       -0.005122   \n",
      "Qtr4_Bal       -0.009190 -0.010554  0.003883  1.000000        0.095494   \n",
      "Perc_inc_q4_q1 -0.564647 -0.007553 -0.005122  0.095494        1.000000   \n",
      "Female         -0.018313 -0.005667 -0.010212 -0.005432        0.022089   \n",
      "Male            0.018313  0.005667  0.010212  0.005432       -0.022089   \n",
      "North           0.000649  0.005970 -0.003608  0.017338        0.012810   \n",
      "South          -0.005639 -0.008520 -0.005636 -0.016508        0.019535   \n",
      "East           -0.005252  0.004875 -0.009713  0.003364       -0.004552   \n",
      "West            0.007911 -0.000994  0.014670 -0.003057       -0.025808   \n",
      "\n",
      "                  Female      Male     North     South      East      West  \n",
      "Qtr1_Bal       -0.018313  0.018313  0.000649 -0.005639 -0.005252  0.007911  \n",
      "Qtr2_Bal       -0.005667  0.005667  0.005970 -0.008520  0.004875 -0.000994  \n",
      "Qtr3_Bal       -0.010212  0.010212 -0.003608 -0.005636 -0.009713  0.014670  \n",
      "Qtr4_Bal       -0.005432  0.005432  0.017338 -0.016508  0.003364 -0.003057  \n",
      "Perc_inc_q4_q1  0.022089 -0.022089  0.012810  0.019535 -0.004552 -0.025808  \n",
      "Female          1.000000 -1.000000 -0.008725  0.021086  0.013134 -0.019643  \n",
      "Male           -1.000000  1.000000  0.008725 -0.021086 -0.013134  0.019643  \n",
      "North          -0.008725  0.008725  1.000000 -0.333983 -0.211959 -0.456993  \n",
      "South           0.021086 -0.021086 -0.333983  1.000000 -0.209456 -0.451596  \n",
      "East            0.013134 -0.013134 -0.211959 -0.209456  1.000000 -0.286601  \n",
      "West           -0.019643  0.019643 -0.456993 -0.451596 -0.286601  1.000000  \n"
     ]
    }
   ],
   "source": [
    "print(X.corr())"
   ]
  },
  {
   "cell_type": "markdown",
   "metadata": {},
   "source": [
    "We can see that Female and Male are highly correlated.\n",
    "\n",
    "This can be resolved by using either one from Male and Female variables."
   ]
  },
  {
   "cell_type": "code",
   "execution_count": 66,
   "metadata": {},
   "outputs": [
    {
     "name": "stdout",
     "output_type": "stream",
     "text": [
      "    VIF Factor        features\n",
      "0     1.472920        Qtr1_Bal\n",
      "1     1.000299        Qtr2_Bal\n",
      "2     1.000453        Qtr3_Bal\n",
      "3     1.012848        Qtr4_Bal\n",
      "4     1.487816  Perc_inc_q4_q1\n",
      "5          inf          Female\n",
      "6          inf            Male\n",
      "7          inf           North\n",
      "8          inf           South\n",
      "9          inf            East\n",
      "10         inf            West\n"
     ]
    },
    {
     "name": "stderr",
     "output_type": "stream",
     "text": [
      "C:\\Users\\ab275\\Anaconda3\\lib\\site-packages\\statsmodels\\stats\\outliers_influence.py:185: RuntimeWarning: divide by zero encountered in double_scalars\n",
      "  vif = 1. / (1. - r_squared_i)\n"
     ]
    }
   ],
   "source": [
    "from statsmodels.stats.outliers_influence import variance_inflation_factor\n",
    "# For each X, calculate VIF and save in dataframe\n",
    "vif = pd.DataFrame()\n",
    "vif[\"VIF Factor\"] = [variance_inflation_factor(X.values, i) for i in range(X.shape[1])]\n",
    "vif[\"features\"] = X.columns\n",
    "\n",
    "print(vif)\n"
   ]
  },
  {
   "cell_type": "markdown",
   "metadata": {},
   "source": [
    "**Heteroskedasticity**: The presence of non-constant variance in the error terms results in heteroskedasticity. Generally, non-constant variance arises in presence of outliers or extreme leverage values. Look like, these values get too much weight, thereby disproportionately influences the model’s performance. When this phenomenon occurs, the confidence interval for out of sample prediction tends to be unrealistically wide or narrow.\n",
    "\n",
    "**How to check**: You can look at residual vs fitted values plot. If heteroskedasticity exists, the plot would exhibit a funnel shape pattern (shown in next section). Also, you can use Breusch-Pagan / Cook – Weisberg test or White general test to detect this phenomenon."
   ]
  },
  {
   "cell_type": "markdown",
   "metadata": {},
   "source": [
    "<img src = \"Images/hetero2.png\" >"
   ]
  },
  {
   "cell_type": "markdown",
   "metadata": {},
   "source": [
    "<img src = \"Images/hetero3.png\">"
   ]
  },
  {
   "cell_type": "code",
   "execution_count": 67,
   "metadata": {},
   "outputs": [
    {
     "data": {
      "text/plain": [
       "Text(0.5,0,'fitted values')"
      ]
     },
     "execution_count": 67,
     "metadata": {},
     "output_type": "execute_result"
    },
    {
     "data": {
      "image/png": "[encoded data removed]",
      "text/plain": [
       "<Figure size 432x180 with 1 Axes>"
      ]
     },
     "metadata": {},
     "output_type": "display_data"
    }
   ],
   "source": [
    "pred_val = lm.fittedvalues.copy()\n",
    "true_val = data['Wallet_trx'].values.copy()\n",
    "residual = true_val - pred_val\n",
    "fig, ax = plt.subplots(figsize=(6,2.5))\n",
    "ax.scatter(residual, pred_val)\n",
    "plt.ylabel('residual')\n",
    "plt.xlabel('fitted values')"
   ]
  },
  {
   "cell_type": "markdown",
   "metadata": {},
   "source": [
    "**Normal Distribution of error terms**: If the error terms are non- normally distributed, confidence intervals may become too wide or narrow. Once confidence interval becomes unstable, it leads to difficulty in estimating coefficients based on minimization of least squares. Presence of non – normal distribution suggests that there are a few unusual data points which must be studied closely to make a better model.\n",
    "\n",
    "**How to check**: You can look at QQ plot (shown below). You can also perform statistical tests of normality such as Kolmogorov-Smirnov test, Shapiro-Wilk test."
   ]
  },
  {
   "cell_type": "markdown",
   "metadata": {},
   "source": [
    "# QQ Plot\n",
    "A Q-Q plot stands for a \"quantile-quantile plot\"."
   ]
  },
  {
   "cell_type": "markdown",
   "metadata": {},
   "source": [
    "It is a plot where the axes are purposely transformed in order to make a normal (or Gaussian) distribution appear in a straight line. In other words, a perfectly normal distribution would exactly follow a line with slope = 1 and intercept = 0.\n",
    "\n",
    "Therefore, if the plot does not appear to be - roughly - a straight line, then the underlying distribution is not normal. \n",
    "\n",
    "If it bends up, then there are more \"high flyer\" values than expected, for instance."
   ]
  },
  {
   "cell_type": "markdown",
   "metadata": {},
   "source": [
    "### What do the x & y labels represent?\n",
    "The theoretical quantiles are placed along the x-axis. That is, the x-axis is not your data, it is simply an expectation of where your data should have been, if it were normal.\n",
    "\n",
    "The actual data is plotted along the y-axis.\n",
    "\n",
    "The values are the standard deviations from the mean. So, 0 is the mean of the data, 1 is 1 standard deviation above, etc. This means, for instance, that 68.27% of all your data should be between -1 & 1, if you have a normal distribution."
   ]
  },
  {
   "cell_type": "markdown",
   "metadata": {},
   "source": [
    "## Normally Distributed QQ-plot\n",
    "<img src = \"Images/qqplot1.png\" > "
   ]
  },
  {
   "cell_type": "markdown",
   "metadata": {},
   "source": [
    "## Not Normally Distributed QQ-plot\n",
    "<img src = \"Images/qqplot2.png\" >"
   ]
  },
  {
   "cell_type": "markdown",
   "metadata": {},
   "source": [
    "Lets plot QQ-plot now using another important library SCIPY."
   ]
  },
  {
   "cell_type": "code",
   "execution_count": 68,
   "metadata": {},
   "outputs": [
    {
     "data": {
      "text/plain": [
       "Text(0.5,1,'Model Residuals Probability Plot')"
      ]
     },
     "execution_count": 68,
     "metadata": {},
     "output_type": "execute_result"
    },
    {
     "data": {
      "image/png": "[encoded data removed]",
      "text/plain": [
       "<Figure size 432x288 with 1 Axes>"
      ]
     },
     "metadata": {},
     "output_type": "display_data"
    }
   ],
   "source": [
    "from scipy import stats\n",
    "stats.probplot(lm.resid, plot= plt)\n",
    "plt.title(\"Model Residuals Probability Plot\")"
   ]
  },
  {
   "cell_type": "markdown",
   "metadata": {},
   "source": [
    "This Model Residuals probability plot is a scatter plot which helps us validate the assumption of normal distribution in a data set. Using this plot we can infer if the data comes from a normal distribution. If yes, the plot would show fairly straight line. Absence of normality in the errors can be seen with deviation in the straight line."
   ]
  },
  {
   "cell_type": "markdown",
   "metadata": {},
   "source": [
    "Here the plot is a fairly straight line but have outliers at the end, thus normality is absent."
   ]
  },
  {
   "cell_type": "markdown",
   "metadata": {},
   "source": [
    "# Model Applications\n",
    "\n",
    "After building the model and checking the assumptions, we need to use the model for new customers.\n",
    "\n",
    "If we are given quarterly data for new customers, and we are asked to find which customers have a high propensity of becoming High CLTV customers and Low CLTV customers, we will make use of our linear regression model to do this. "
   ]
  },
  {
   "cell_type": "code",
   "execution_count": 92,
   "metadata": {},
   "outputs": [],
   "source": [
    "# Lets use below data as data for new customers : \n",
    "new_data = pd.DataFrame({'Qtr1_Bal':[4,7,10,38,44,52], 'Qtr2_Bal':[28,16,10,49,56,37], \n",
    "                         'Qtr3_Bal':[32,19,28,46,35,41],'Qtr4_Bal':[80,69,92,45,61,72],\n",
    "                         'Perc_inc_q4_q1':[88,73,92,18,21,8],'Female':[0,1,1,0,0,0],'Male':[1,0,0,1,1,1],\n",
    "                         'North':[1,0,0,0,0,0],'South':[0,0,1,0,1,0],'East':[0,0,0,0,0,0],'West':[0,1,0,1,0,1]})"
   ]
  },
  {
   "cell_type": "code",
   "execution_count": 93,
   "metadata": {},
   "outputs": [
    {
     "name": "stdout",
     "output_type": "stream",
     "text": [
      "   Qtr1_Bal  Qtr2_Bal  Qtr3_Bal  Qtr4_Bal  Perc_inc_q4_q1  Female  Male  \\\n",
      "0         4        28        32        80              88       0     1   \n",
      "1         7        16        19        69              73       1     0   \n",
      "2        10        10        28        92              92       1     0   \n",
      "3        38        49        46        45              18       0     1   \n",
      "4        44        56        35        61              21       0     1   \n",
      "5        52        37        41        72               8       0     1   \n",
      "\n",
      "   North  South  East  West  \n",
      "0      1      0     0     0  \n",
      "1      0      0     0     1  \n",
      "2      0      1     0     0  \n",
      "3      0      0     0     1  \n",
      "4      0      1     0     0  \n",
      "5      0      0     0     1  \n"
     ]
    }
   ],
   "source": [
    "print(new_data)"
   ]
  },
  {
   "cell_type": "code",
   "execution_count": 95,
   "metadata": {},
   "outputs": [
    {
     "name": "stdout",
     "output_type": "stream",
     "text": [
      "0    1833.550122\n",
      "1    1524.718292\n",
      "2    1918.701272\n",
      "3     384.743339\n",
      "4     446.188959\n",
      "5     177.980024\n",
      "dtype: float64\n"
     ]
    }
   ],
   "source": [
    "# Predict the output using the linear model 'lm' and predict function\n",
    "print(lm.predict(new_data))"
   ]
  },
  {
   "cell_type": "markdown",
   "metadata": {},
   "source": [
    "First 3 customers seem to have high Wallet_trx prediction values and hence will be high CLTV customers.\n",
    "\n",
    "Similarly, last 3 customers will be low CLTV customers."
   ]
  }
 ],
 "metadata": {
  "kernelspec": {
   "display_name": "Python 3",
   "language": "python",
   "name": "python3"
  },
  "language_info": {
   "codemirror_mode": {
    "name": "ipython",
    "version": 3
   },
   "file_extension": ".py",
   "mimetype": "text/x-python",
   "name": "python",
   "nbconvert_exporter": "python",
   "pygments_lexer": "ipython3",
   "version": "3.6.1"
  }
 },
 "nbformat": 4,
 "nbformat_minor": 2
}
